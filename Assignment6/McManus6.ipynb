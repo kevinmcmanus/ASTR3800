{
 "cells": [
  {
   "cell_type": "markdown",
   "metadata": {},
   "source": [
    "<h1 style=\"text-align: center\"> Assignment #6 </h1>\n",
    "\n",
    "\n",
    "<h4 style=\"text-align: center\"> Kevin McManus </h4>\n",
    "<h4 style=\"text-align: center\"> Student ID: 109702479</h4>"
   ]
  },
  {
   "cell_type": "markdown",
   "metadata": {},
   "source": [
    "## . MyData Class (revised)\n"
   ]
  },
  {
   "cell_type": "code",
   "execution_count": 1,
   "metadata": {},
   "outputs": [],
   "source": [
    "#From Chapter 3\n",
    "import numpy as np\n",
    "import pandas as pd\n",
    "import os\n",
    "import matplotlib.pyplot as plt\n",
    "from copy import deepcopy\n",
    "from scipy.interpolate import UnivariateSpline\n",
    "import scipy.ndimage\n",
    "from scipy import signal\n",
    "from astropy.io import fits\n",
    "\n",
    "class MyData:\n",
    "    def __init__(self,filename='NoFile'):\n",
    "        self.filename = filename\n",
    "        self.ndim = 0 \n",
    "        self.x = []\n",
    "        self.nx = 0\n",
    "        self.y = []\n",
    "        self.ny = 0\n",
    "        self.z = []\n",
    "        self.nz = 0\n",
    "        self.array = []\n",
    "        self.header = []\n",
    "        self.nxa = 0\n",
    "        self.nya = 0\n",
    "        \n",
    "    def xline(self,xmin,xmax,nx):\n",
    "        self.nx = nx\n",
    "        self.ndim = 1\n",
    "        self.x = np.linspace(xmin,xmax,nx)\n",
    "\n",
    "    def yline(self,a,b):\n",
    "        if(self.ndim == 1):\n",
    "            self.ny = self.nx\n",
    "            self.y = a + b*self.x\n",
    "        else:\n",
    "            print(\"x value not one dimensional\")\n",
    "\n",
    "    def plotxy(self):\n",
    "        plt.cla()\n",
    "        plt.title(self.filename)\n",
    "        plt.plot(self.x,self.y)\n",
    "        plt.show()\n",
    "\n",
    "    def plotpoints(self):\n",
    "        plt.cla()\n",
    "        plt.title(self.filename)\n",
    "        #plt.plot(self.x,self.y)\n",
    "        plt.scatter(self.x, self.y, s=2, marker='o', c='black')\n",
    "        plt.show()\n",
    "\n",
    "    def GetFits(self, filename):\n",
    "        self.filename = filename\n",
    "        hdul = fits.open(filename)\n",
    "        self.array = fits.getdata(filename)\n",
    "        self.header = hdul[0].header\n",
    "        sh = np.shape(self.array)\n",
    "        self.nxa = sh[0]\n",
    "        self.nya = sh[1]\n",
    "        self.ndim = 2\n",
    "            \n",
    "    def GetTableData(self, filename):\n",
    "        self.filename = filename\n",
    "        data_array=np.genfromtxt(filename)\n",
    "        s = data_array.shape\n",
    "        if len(s) == 1 :\n",
    "            self.x= data_array\n",
    "            self.nx = s[0]\n",
    "        if len(s) == 2 :\n",
    "            self.x = data_array[:, 0]\n",
    "            self.y = data_array[:, 1]\n",
    "            self.nx = s[0]\n",
    "            self.ny = s[0] #one y value for each x value\n",
    "\n",
    "    def WriteTableData(self,filename='test.txt'):\n",
    "        f = open(filename,\"w\")\n",
    "        if self.ny == 0:\n",
    "            for i in range(0,self.nx):\n",
    "                f.write('%8.4f\\n' % self.x[i] )\n",
    "        else:\n",
    "            for i in range(0,self.nx):\n",
    "                f.write('%8.4f  %8.4f\\n' % (self.x[i],self.y[i]))\n",
    "        f.close()\n",
    "\n",
    "    def Quicklook(self):\n",
    "        if (self.nx == 0):\n",
    "            print(\"Whoops! No Data\")\n",
    "            return\n",
    "        plt.cla()\n",
    "        if self.ny == 0:\n",
    "            plt.plot(self.x, c='black')\n",
    "        else:\n",
    "            plt.scatter(self.x, self.y, s=2, marker='o', c='black')\n",
    "        plt.show()\n",
    "        print(\"length of x list is \",len(self.x), \"items\")\n",
    "        \n",
    "    def ReadInteger16(self,filename,nxa=256,nya=256):\n",
    "        self.filename = filename\n",
    "        data = np.fromfile('m33.dat', dtype='i2')\n",
    "        self.array = np.reshape(np.array(data),(nxa,nya))\n",
    "        self.ndim = 2\n",
    "        self.nxa = nxa\n",
    "        self.nya = nya\n",
    "        \n",
    "    def WriteFloat64(self,filename=\"test.dat\"):\n",
    "        self.filename = filename\n",
    "        f= open(self.filename,\"w+\")\n",
    "        self.x.tofile(f)\n",
    "        f.close()\n",
    "\n",
    "    def ReadFloat64(self,filename=\"test.dat\",nxa=256,nya=256, ftype='binary'):\n",
    "        self.filename = filename\n",
    "        if ftype == 'binary':\n",
    "            data = np.fromfile(filename, dtype='f8')\n",
    "        elif ftype == 'text':\n",
    "            data = np.loadtxt(filename)\n",
    "        else:\n",
    "            raise ValueError('ftype must be text or binary.')\n",
    "\n",
    "        self.array = np.reshape(np.array(data),(nxa,nya))\n",
    "        self.ndim = 2\n",
    "        self.nxa = nxa\n",
    "        self.nya = nya\n",
    "\n",
    "    def ReadExcelColumn(self, filename, sheetname, columnname):\n",
    "        self.filename = filename\n",
    "        e = pd.ExcelFile(filename)\n",
    "        ep = e.parse(sheetname)\n",
    "        df=ep[columnname]\n",
    "        self.x = df.values\n",
    "        self.nx = len(self.x)\n",
    "        self.ndim = 1\n",
    "        \n",
    "    def WriteExcelColumn(self, filename):\n",
    "        df = pd.DataFrame(data=self.x)\n",
    "        with pd.ExcelWriter(filename) as writer:\n",
    "            df.to_excel(writer)\n",
    "            \n",
    "    def MyHistogram(self,bins=10):\n",
    "        hi=np.histogram(self.x,bins=bins)\n",
    "        hy=np.array(hi[0])\n",
    "        hx=np.array(hi[1])\n",
    "        hx=hx[1:]\n",
    "        plt.cla()\n",
    "        #plt.plot(hx,hy,linestyle='steps')\n",
    "        plt.plot(hx,hy,linestyle='-')\n",
    "        plt.show()\n",
    "\n",
    "    def Slice(self, slc):\n",
    "        \"\"\"\n",
    "        slices self.x and self.y according to slc\n",
    "        \"\"\"\n",
    "        if self.nx == 0:\n",
    "            raise ValueError('Data object has no data to slice')\n",
    "        self.x = self.x[slc]\n",
    "        self.nx = len(self.x)\n",
    "        if self.ny != 0:\n",
    "            self.y = self.y[slc]\n",
    "            self.ny = len(self.y)\n",
    "\n",
    "    def MyHistogram(self,**kwargs):\n",
    "        ax = kwargs.pop('ax', None)\n",
    "        xlim = kwargs.pop('xlim', (None, None))\n",
    "        title = kwargs.pop('title', self.filename)\n",
    "        density = kwargs.pop('density', False)\n",
    "        grid = kwargs.pop('grid', True)\n",
    "        which = kwargs.pop('which','x')\n",
    "\n",
    "        data = getattr(self, which)\n",
    "        if which=='array':\n",
    "            data = data.flatten()\n",
    "\n",
    "\n",
    "        fig = None\n",
    "        if ax is None:\n",
    "            fig, ax = plt.subplots()\n",
    "\n",
    "        ax.hist(data, density=density, **kwargs)\n",
    "        \n",
    "        ylab = ('Density' if density else 'Count') + f' of {which}'\n",
    "        ax.set_ylabel(ylab)\n",
    "        ax.set_title(title)\n",
    "        ax.set_xlim(xlim)\n",
    "        if grid:\n",
    "            ax.grid(axis='y')"
   ]
  },
  {
   "cell_type": "markdown",
   "metadata": {},
   "source": [
    "## 1. Swim Meet\n",
    ">You are a timer at a swim meet. There are eight lanes and eight timers, each with a stopwatch.\n"
   ]
  },
  {
   "cell_type": "markdown",
   "metadata": {},
   "source": [
    "### Calibration\n",
    ">Suggest a way to calibrate each stopwatch so there is effectively no difference in the time rate\n",
    "each is showing. Answer this in a markdown line of surname_6.ipynb\n"
   ]
  },
  {
   "cell_type": "markdown",
   "metadata": {},
   "source": [
    "Presumably, swimmers and their coaches will want to compare thier times to those of other swim meets, shall we say, at the NCAA level. Thus the precision necessary for the timers of this meet must meet NCAA standards. So the first calibration step would be to obtain the NCAA standards.\n",
    "\n",
    "As for the accuracy of the timings, there are two sources of error: systematic and random.  Systematic errors are imbedded in the timing instrument itself (i.e. the stopwatch). Such an instrument may measure nine seconds when ten seconds have elapsed. Such errors would be proportional to the interval of time measured, e.g., the stopwatch reads 18 seconds when in reality 20 seconds have elapsed. Different intruments may (probably do) have different characteristics.\n",
    "\n",
    "The timer, that is the operator of the timing instrument, introduces the random error element. For example, the time they take to start the instrument upon hearing the start signal or stop the instrument upon seeing a swimmer complete the event will be a random variable that varies from one trial to the next. The distribution of that random variable will most likely differ among timers.\n",
    "\n",
    "#### Calibration Proposal\n",
    "\n",
    "1. Assign a stopwath to each timer. This is the instrument they are to use in calibration and in the actual swimmeet.\n",
    "1. Have each timer/stopwatch pair watch previously recorded videos of swimming events. The events should vary in length (e.g. 100m 200m, 400IM). The more events and the greater the diversity of the events, the better.\n",
    "1. The timer should start and stop their watch at the start and end of each event they watch and record the time indicated on their watch and the official time for the event.\n",
    "1. The head timer (me) collect the data from each timer.\n",
    "1. For each dataset fit a linear regression line with y being the official time and x  being the time measured by the observer.\n",
    "\n",
    "The result of this last step will be a fitted line of the form `y = a +bx` where `x` is the observed time and `y` is the official time. In other words, this equation predicts the official (calibrated) time from the observed time.  The coefficient `b` in the equation represents the systemic error of the instrument and the constant `a` represents mean error introduced by the timer.\n",
    "\n",
    "This method produces one such equation for each timer/stopwatch pair. As the swimmeet proceeds, the head timer adjusts each time observed according to the observer's (timer's) specific equation.\n",
    "\n"
   ]
  },
  {
   "cell_type": "markdown",
   "metadata": {},
   "source": [
    "### Histogram and Winning Time\n",
    ">There are ten heats of eight each. The resultant times are in SwimMeetTimes.txt. Read the times\n",
    "into an instance of MyData. Create a Histogram of the times. Fiddle with the number of bins\n",
    "until you feel the histogram gives the best information to the eye.\n",
    "Print the winning time and the losing time.\n",
    "Print the mean and standard deviations of the times.\n",
    "\n",
    "It is unclear from the format of the file whether the data vector contained in it is $heats\\ \\times \\ lanes$ or $lanes\\ \\times \\ heats$. For purposes here, we'll assume $heats\\ \\times\\ lanes$. Thus the `x` dimension is heats (nx=10) and the `y` dimension is lanes (ny=8)"
   ]
  },
  {
   "cell_type": "code",
   "execution_count": 2,
   "metadata": {},
   "outputs": [
    {
     "data": {
      "text/html": [
       "<div>\n",
       "<style scoped>\n",
       "    .dataframe tbody tr th:only-of-type {\n",
       "        vertical-align: middle;\n",
       "    }\n",
       "\n",
       "    .dataframe tbody tr th {\n",
       "        vertical-align: top;\n",
       "    }\n",
       "\n",
       "    .dataframe thead th {\n",
       "        text-align: right;\n",
       "    }\n",
       "</style>\n",
       "<table border=\"1\" class=\"dataframe\">\n",
       "  <thead>\n",
       "    <tr style=\"text-align: right;\">\n",
       "      <th></th>\n",
       "      <th>Lane_1</th>\n",
       "      <th>Lane_2</th>\n",
       "      <th>Lane_3</th>\n",
       "      <th>Lane_4</th>\n",
       "      <th>Lane_5</th>\n",
       "      <th>Lane_6</th>\n",
       "      <th>Lane_7</th>\n",
       "      <th>Lane_8</th>\n",
       "    </tr>\n",
       "    <tr>\n",
       "      <th>Heat</th>\n",
       "      <th></th>\n",
       "      <th></th>\n",
       "      <th></th>\n",
       "      <th></th>\n",
       "      <th></th>\n",
       "      <th></th>\n",
       "      <th></th>\n",
       "      <th></th>\n",
       "    </tr>\n",
       "  </thead>\n",
       "  <tbody>\n",
       "    <tr>\n",
       "      <th>1</th>\n",
       "      <td>28.961</td>\n",
       "      <td>29.772</td>\n",
       "      <td>29.522</td>\n",
       "      <td>30.224</td>\n",
       "      <td>30.410</td>\n",
       "      <td>34.492</td>\n",
       "      <td>30.336</td>\n",
       "      <td>30.004</td>\n",
       "    </tr>\n",
       "    <tr>\n",
       "      <th>2</th>\n",
       "      <td>29.367</td>\n",
       "      <td>31.743</td>\n",
       "      <td>28.851</td>\n",
       "      <td>30.355</td>\n",
       "      <td>32.921</td>\n",
       "      <td>31.030</td>\n",
       "      <td>31.044</td>\n",
       "      <td>25.220</td>\n",
       "    </tr>\n",
       "    <tr>\n",
       "      <th>3</th>\n",
       "      <td>32.935</td>\n",
       "      <td>32.859</td>\n",
       "      <td>31.043</td>\n",
       "      <td>29.233</td>\n",
       "      <td>33.199</td>\n",
       "      <td>25.455</td>\n",
       "      <td>29.713</td>\n",
       "      <td>32.217</td>\n",
       "    </tr>\n",
       "    <tr>\n",
       "      <th>4</th>\n",
       "      <td>31.664</td>\n",
       "      <td>31.251</td>\n",
       "      <td>30.806</td>\n",
       "      <td>29.275</td>\n",
       "      <td>32.693</td>\n",
       "      <td>29.801</td>\n",
       "      <td>33.476</td>\n",
       "      <td>27.190</td>\n",
       "    </tr>\n",
       "    <tr>\n",
       "      <th>5</th>\n",
       "      <td>30.122</td>\n",
       "      <td>27.649</td>\n",
       "      <td>27.570</td>\n",
       "      <td>31.185</td>\n",
       "      <td>30.686</td>\n",
       "      <td>31.245</td>\n",
       "      <td>28.613</td>\n",
       "      <td>32.204</td>\n",
       "    </tr>\n",
       "    <tr>\n",
       "      <th>6</th>\n",
       "      <td>31.258</td>\n",
       "      <td>35.031</td>\n",
       "      <td>27.224</td>\n",
       "      <td>30.355</td>\n",
       "      <td>32.582</td>\n",
       "      <td>31.072</td>\n",
       "      <td>26.505</td>\n",
       "      <td>28.322</td>\n",
       "    </tr>\n",
       "    <tr>\n",
       "      <th>7</th>\n",
       "      <td>27.217</td>\n",
       "      <td>25.559</td>\n",
       "      <td>31.823</td>\n",
       "      <td>32.821</td>\n",
       "      <td>31.057</td>\n",
       "      <td>29.077</td>\n",
       "      <td>24.196</td>\n",
       "      <td>30.123</td>\n",
       "    </tr>\n",
       "    <tr>\n",
       "      <th>8</th>\n",
       "      <td>31.077</td>\n",
       "      <td>31.987</td>\n",
       "      <td>26.837</td>\n",
       "      <td>28.656</td>\n",
       "      <td>28.101</td>\n",
       "      <td>31.247</td>\n",
       "      <td>24.132</td>\n",
       "      <td>29.090</td>\n",
       "    </tr>\n",
       "    <tr>\n",
       "      <th>9</th>\n",
       "      <td>33.285</td>\n",
       "      <td>32.771</td>\n",
       "      <td>32.939</td>\n",
       "      <td>29.236</td>\n",
       "      <td>33.801</td>\n",
       "      <td>30.612</td>\n",
       "      <td>28.909</td>\n",
       "      <td>31.616</td>\n",
       "    </tr>\n",
       "    <tr>\n",
       "      <th>10</th>\n",
       "      <td>29.343</td>\n",
       "      <td>29.546</td>\n",
       "      <td>30.421</td>\n",
       "      <td>28.192</td>\n",
       "      <td>31.024</td>\n",
       "      <td>29.849</td>\n",
       "      <td>32.526</td>\n",
       "      <td>32.566</td>\n",
       "    </tr>\n",
       "  </tbody>\n",
       "</table>\n",
       "</div>"
      ],
      "text/plain": [
       "      Lane_1  Lane_2  Lane_3  Lane_4  Lane_5  Lane_6  Lane_7  Lane_8\n",
       "Heat                                                                \n",
       "1     28.961  29.772  29.522  30.224  30.410  34.492  30.336  30.004\n",
       "2     29.367  31.743  28.851  30.355  32.921  31.030  31.044  25.220\n",
       "3     32.935  32.859  31.043  29.233  33.199  25.455  29.713  32.217\n",
       "4     31.664  31.251  30.806  29.275  32.693  29.801  33.476  27.190\n",
       "5     30.122  27.649  27.570  31.185  30.686  31.245  28.613  32.204\n",
       "6     31.258  35.031  27.224  30.355  32.582  31.072  26.505  28.322\n",
       "7     27.217  25.559  31.823  32.821  31.057  29.077  24.196  30.123\n",
       "8     31.077  31.987  26.837  28.656  28.101  31.247  24.132  29.090\n",
       "9     33.285  32.771  32.939  29.236  33.801  30.612  28.909  31.616\n",
       "10    29.343  29.546  30.421  28.192  31.024  29.849  32.526  32.566"
      ]
     },
     "execution_count": 2,
     "metadata": {},
     "output_type": "execute_result"
    }
   ],
   "source": [
    "swim1 = MyData()\n",
    "swim1.ReadFloat64(filename='SwimMeetTimes.txt', nxa=10, nya=8,ftype='text')\n",
    "\n",
    "#make a data frame for easy to read display\n",
    "lanes = [f'Lane_{i}' for i in range(1,9)]\n",
    "df = pd.DataFrame(swim1.array, columns=lanes, index=pd.Index(range(1,11), name='Heat'))\n",
    "df"
   ]
  },
  {
   "cell_type": "code",
   "execution_count": 3,
   "metadata": {},
   "outputs": [
    {
     "data": {
      "text/plain": [
       "Text(0.5, 0, 'Event Time (Seconds)')"
      ]
     },
     "execution_count": 3,
     "metadata": {},
     "output_type": "execute_result"
    },
    {
     "data": {
      "image/png": "[encoded data removed]",
      "text/plain": [
       "<Figure size 432x288 with 1 Axes>"
      ]
     },
     "metadata": {
      "needs_background": "light"
     },
     "output_type": "display_data"
    }
   ],
   "source": [
    "#histogram of all of the times\n",
    "swim1.MyHistogram(which='array',bins=20,title='Distribution of Event Times')\n",
    "plt.ylabel('Number of Swimmers'); plt.xlabel('Event Time (Seconds)')\n",
    "    "
   ]
  },
  {
   "cell_type": "code",
   "execution_count": 4,
   "metadata": {},
   "outputs": [
    {
     "name": "stdout",
     "output_type": "stream",
     "text": [
      "Winning time: 24.132 seconds, Heat: 8, Lane: 7\n",
      "Losing (slowest) time: 35.031 seconds, Heat: 6, Lane: 2\n"
     ]
    }
   ],
   "source": [
    "#winning time=minimum, losing time = maximum\n",
    "winning_time_i = swim1.array.argmin()\n",
    "winning_time_ij = np.unravel_index(winning_time_i, swim1.array.shape)\n",
    "print(f'Winning time: {swim1.array[winning_time_ij]} seconds, Heat: {winning_time_ij[0]+1}, Lane: {winning_time_ij[1]+1}')\n",
    "\n",
    "losing_time_i = swim1.array.argmax()\n",
    "losing_time_ij = np.unravel_index(losing_time_i, swim1.array.shape)\n",
    "print(f'Losing (slowest) time: {swim1.array[losing_time_ij]} seconds, Heat: {losing_time_ij[0]+1}, Lane: {losing_time_ij[1]+1}')"
   ]
  },
  {
   "cell_type": "code",
   "execution_count": 5,
   "metadata": {},
   "outputs": [
    {
     "name": "stdout",
     "output_type": "stream",
     "text": [
      "Mean event time: 30.23 seconds\n",
      "Standard deviationi of event times: 2.30 seconds\n"
     ]
    }
   ],
   "source": [
    "#mean and standard deviation\n",
    "print(f'Mean event time: {swim1.array.mean():.2f} seconds')\n",
    "print(f'Standard deviationi of event times: {swim1.array.std(ddof=1):.2f} seconds')"
   ]
  },
  {
   "cell_type": "markdown",
   "metadata": {},
   "source": [
    "### Handle Disqualifications\n",
    "\n",
    ">Another ten heats are run and the times recorded in SwimMeetTimes2.txt. This time, some of the\n",
    "swimmers were disqualified and their times were recorded as 0. Repeat the exercise, but this\n",
    "time write a few extra lines of code of to strip the zeroes before continuing."
   ]
  },
  {
   "cell_type": "markdown",
   "metadata": {},
   "source": [
    "Perhaps the easiest way to deal with invalid data is to use the capabilities in the `numpy.ma` module, where `ma` stands for \"masked array\".  See the [documentation](https://numpy.org/doc/stable/reference/maskedarray.generic.html). A brief demonstration follows:"
   ]
  },
  {
   "cell_type": "code",
   "execution_count": 6,
   "metadata": {},
   "outputs": [
    {
     "name": "stdout",
     "output_type": "stream",
     "text": [
      "Array with missing data: [ 1.  2. nan  3.]\n",
      "Standard Deviation of array: nan\n",
      "Masked array: [1.0 2.0 -- 3.0]\n",
      "Standard deviation of masked array: 1.0\n"
     ]
    }
   ],
   "source": [
    "#masked array demo\n",
    "import numpy.ma as ma\n",
    "\n",
    "#create an array that has missing data\n",
    "xx = np.array([1.0, 2.0, np.nan, 3.0])\n",
    "print(f'Array with missing data: {xx}')\n",
    "print(f'Standard Deviation of array: {xx.std(ddof=1)}')\n",
    "\n",
    "#make masked array and mask out the missing values\n",
    "yy = ma.masked_array(xx, mask=np.isnan(xx))\n",
    "print(f'Masked array: {yy}')\n",
    "print(f'Standard deviation of masked array: {yy.std(ddof=1)}')"
   ]
  },
  {
   "cell_type": "markdown",
   "metadata": {},
   "source": [
    "Notice that the `np.std` (standard deviation) function returns a NotANumber when it encounters one in the input data. `np.std` skips masked values when passed a masked array and returns the standard deviation of the non-masked values."
   ]
  },
  {
   "cell_type": "markdown",
   "metadata": {},
   "source": [
    "To apply this capability to the task at hand, we'll read in the second data file, then mask out the disqualified entrants whose times are recorded as 0, then print out the means and standard deviations of the unmasked and masked times."
   ]
  },
  {
   "cell_type": "code",
   "execution_count": 19,
   "metadata": {},
   "outputs": [
    {
     "name": "stdout",
     "output_type": "stream",
     "text": [
      "Total number of times: 80, number of disqualifications: 2\n",
      "*** Before DQ exclusion:\n",
      "\tMean event time: 29.23 seconds\n",
      "\tStandard deviation of event times: 5.29 seconds\n",
      "\tWinning time: 0.0 seconds, Heat: 4, Lane: 1\n",
      "\tLosing (slowest) time: 31.987 seconds, Heat: 8, Lane: 2\n",
      "\n",
      "*** After DQ exclusion:\n",
      "\tMean event time: 29.98 seconds\n",
      "\tStandard deviation of event times: 2.44 seconds\n",
      "\tWinning time: 25.319 seconds, Heat: 2, Lane: 5\n",
      "\tLosing (slowest) time: 31.987 seconds, Heat: 8, Lane: 2\n"
     ]
    },
    {
     "data": {
      "image/png": "[encoded data removed]",
      "text/plain": [
       "<Figure size 864x432 with 2 Axes>"
      ]
     },
     "metadata": {
      "needs_background": "light"
     },
     "output_type": "display_data"
    }
   ],
   "source": [
    "#set up for plotting\n",
    "fig, axs = plt.subplots(nrows=1, ncols=2, figsize=(12,6))\n",
    "\n",
    "swim2 = MyData()\n",
    "swim2.ReadFloat64(filename='SwimMeetTimes2.txt', nxa=10, nya=8,ftype='text')\n",
    "print(f'Total number of times: {swim2.array.size}, number of disqualifications: {(swim2.array == 0.0).sum()}')\n",
    "\n",
    "print('*** Before DQ exclusion:')\n",
    "#mean and standard deviation\n",
    "print(f'\\tMean event time: {swim2.array.mean():.2f} seconds')\n",
    "print(f'\\tStandard deviation of event times: {swim2.array.std(ddof=1):.2f} seconds')\n",
    "\n",
    "#winning time, heat and lane\n",
    "winning_time_i = swim2.array.argmin()\n",
    "winning_time_ij = np.unravel_index(winning_time_i, swim2.array.shape)\n",
    "print(f'\\tWinning time: {swim2.array[winning_time_ij]} seconds, Heat: {winning_time_ij[0]+1}, Lane: {winning_time_ij[1]+1}')\n",
    "\n",
    "#losing time, heat and lane\n",
    "losing_time_i = swim2.array.argmax()\n",
    "losing_time_ij = np.unravel_index(losing_time_i, swim2.array.shape)\n",
    "print(f'\\tLosing (slowest) time: {swim1.array[losing_time_ij]} seconds, Heat: {losing_time_ij[0]+1}, Lane: {losing_time_ij[1]+1}')\n",
    "\n",
    "#histogram of all of the times\n",
    "swim2.MyHistogram(ax=axs[0],which='array',bins=20,title='Before DQ Exclusion')\n",
    "axs[0].set_ylabel('Number of Swimmers'); axs[0].set_xlabel('Event Time (Seconds)')\n",
    "\n",
    "\n",
    "#exclude the dq's\n",
    "data = ma.masked_array(swim2.array, swim2.array==0)\n",
    "swim2.array=data\n",
    "\n",
    "print('\\n*** After DQ exclusion:')\n",
    "#mean and standard deviation\n",
    "print(f'\\tMean event time: {swim2.array.mean():.2f} seconds')\n",
    "print(f'\\tStandard deviation of event times: {swim2.array.std(ddof=1):.2f} seconds')\n",
    "\n",
    "#winning time, heat and lane\n",
    "winning_time_i = swim2.array.argmin()\n",
    "winning_time_ij = np.unravel_index(winning_time_i, swim2.array.shape)\n",
    "print(f'\\tWinning time: {swim2.array[winning_time_ij]} seconds, Heat: {winning_time_ij[0]+1}, Lane: {winning_time_ij[1]+1}')\n",
    "\n",
    "#losing time, heat and lane\n",
    "losing_time_i = swim2.array.argmax()\n",
    "losing_time_ij = np.unravel_index(losing_time_i, swim2.array.shape)\n",
    "print(f'\\tLosing (slowest) time: {swim1.array[losing_time_ij]} seconds, Heat: {losing_time_ij[0]+1}, Lane: {losing_time_ij[1]+1}')\n",
    "\n",
    "#histogram of all of the times\n",
    "swim2.MyHistogram(ax=axs[1],which='array',bins=20,title='After DQ Exclusion')\n",
    "axs[1].set_ylabel('Number of Swimmers'); zz=axs[1].set_xlabel('Event Time (Seconds)')\n",
    "\n"
   ]
  },
  {
   "cell_type": "markdown",
   "metadata": {},
   "source": [
    "## 2. Propagation of Errors\n",
    ">You want to measure the radius of a star under the assumption it is a perfect blackbody.\n",
    "You measure:\n",
    ">>The Luminosity to 1%.\n",
    "\n",
    ">>The Distance to 2%\n",
    "\n",
    ">>The Temperature to 1%\n",
    "\n",
    ">To what percent have you measured the radius? "
   ]
  },
  {
   "cell_type": "markdown",
   "metadata": {},
   "source": [
    "The relationship among luminosity ($L$), temperature ($T$) and radius ($R$) is:\n",
    "$$\n",
    "L = \\sigma_{sb}T^4\\times 4\\pi R^2\n",
    "$$\n",
    "where $\\sigma_{sb}$ is the Stefan-Boltzmann constant.\n",
    "If we have measured quantites for $T$ and $L$, we can infer $R$ as follows:\n",
    "$$\n",
    "R = \\left( \\frac{L}{4\\pi\\sigma_{sb}T^4}\\right)^\\frac{1}{2}\n",
    "$$\n",
    "Uncertainty in the measurements of $L$ and $T$ propagate through to uncertainty in $R$.\n"
   ]
  },
  {
   "cell_type": "markdown",
   "metadata": {},
   "source": [
    "Some error propagation formulas from Lecture #10, in which $\\delta \\ll 1$:\n",
    "\n",
    "**Squared Term:** $(1+\\delta)^2 \\approx 1 + 2\\delta$\n",
    "\n",
    "**Product of Two Terms:** $(1+\\delta)(1+\\epsilon) \\approx 1 + \\delta + \\epsilon$\n",
    "\n",
    "**Reciprocal:** $\\frac{1}{1+\\delta} \\approx 1-\\delta$\n",
    "\n",
    "**Square Root:** $\\sqrt{1+\\delta} \\approx 1+\\frac{\\delta}{2}$"
   ]
  },
  {
   "cell_type": "markdown",
   "metadata": {},
   "source": [
    "In the problem at hand, both $L$ and $T$ are measured to a precision of 1%, that is $L(1\\pm 0.01)$ and $T(1\\pm 0.01)$.\n",
    "\n",
    "Let $X$ be the denominator of the equation for $R$:\n",
    "$$\n",
    "\\begin{align*}\n",
    "X &= 4\\pi\\sigma_{sb}(T(1\\pm 0.01))^4 \\\\\n",
    "&= 4\\pi\\sigma_{sb}T^4(1 \\pm 0.01)^2(1 \\pm 0.01)^2 \\\\\n",
    "&= 4\\pi\\sigma_{sb}T^4(1 \\pm 2\\times 0.01)(1 \\pm 2\\times 0.01) \\quad \\text{Squared Term Rule}\\\\\n",
    "&= 4\\pi\\sigma_{sb}T^4(1 \\pm  0.04)\\\\\n",
    "&= X(1 \\pm  0.04)\n",
    "\\end{align*}\n",
    "$$\n",
    "\n",
    "By the **Reciprocal Rule**, $\\frac{1}{X\\pm \\delta} \\approx X \\pm \\delta$ so in this case, $\\frac{1}{X} \\approx X(1\\pm 0.04)$. Multiplying the reciprocal of $X$ by the luminoisty $L$, the error terms add, so thier product is:\n",
    "$$\n",
    "\\begin{align*}\n",
    "L\\times\\frac{1}{X} &= L(1.01) \\times (\\frac{1}{X})(1+0.04) \\\\\n",
    "&= \\frac{L}{X}(1\\pm 0.01 \\pm 0.04)\\\\\n",
    "&= \\frac{L}{X}(1 \\pm 0.05)\n",
    "\\end{align*}\n",
    "$$\n",
    "\n",
    "And finally, using the square root rule on this ratio:\n",
    "$$\n",
    "\\begin{align*}\n",
    "R &= \\sqrt{\\frac{L}{X}(1 \\pm .05)} \\quad \\approx \\left(\\frac{L}{X}\\right)^{\\frac{1}{2}}(1 \\pm .025)\\\\\n",
    "R &\\approx \\left(\\frac{L}{4\\pi\\sigma_{sb} T^4}\\right)^{\\frac{1}{2}} (1 \\pm 0.025)\n",
    "\\end{align*}\n",
    "$$\n",
    "\n",
    "So, under the assumption that luminosity and temperature are measured to a precision within 1%, the radius is calculated to a precision of 2.5%."
   ]
  },
  {
   "cell_type": "markdown",
   "metadata": {},
   "source": [
    "### 2.1 Experimental Results\n",
    "In this section, we'll simulate temperature and luminosity measurements of the Sun, from which we'll calculate its radius. We'll calculate the mean and standard deviation of the simulated results and compare them to the values predicted above."
   ]
  },
  {
   "cell_type": "code",
   "execution_count": 8,
   "metadata": {},
   "outputs": [],
   "source": [
    "NTRIALS = 10000\n",
    "sigma_sb = 5.6703744191844314e-08 #stefan-boltzmann WK^-4\n",
    "\n",
    "np.random.seed(1234) # make results reproducible\n",
    "\n",
    "T_sun = 5780 ; T_sun_error = 0.01*T_sun # K\n",
    "L_sun = 3.828e+26; L_sun_error = 0.01*L_sun #Watt\n",
    "R_sun = 695700000.0 #km, true solar radius\n",
    "\n",
    "#simulate temperature and luminosity measurements\n",
    "temps = np.random.normal(loc=T_sun, scale=T_sun_error, size=NTRIALS)\n",
    "lums = np.random.normal(loc=L_sun, scale=L_sun_error, size=NTRIALS)\n",
    "\n",
    "#calculate radius from simulated measurements\n",
    "rads = np.sqrt(lums/(4*np.pi*sigma_sb*temps**4))\n",
    "# calculate mean and std dev of the sim'd calculations\n",
    "R_bar = rads.mean()\n",
    "R_error = rads.std(ddof=1)\n",
    "\n",
    "#predict radius and error\n",
    "R_pred = np.sqrt(L_sun/(4*np.pi*sigma_sb*T_sun**4))\n",
    "R_pred_error = R_pred*0.025 #from equations above\n",
    "\n",
    "#shove it into a MyData object for ease of plotting\n",
    "experiment = MyData(filename='Solar Radius Experiment')\n",
    "experiment.x = rads\n"
   ]
  },
  {
   "cell_type": "code",
   "execution_count": 9,
   "metadata": {},
   "outputs": [
    {
     "name": "stdout",
     "output_type": "stream",
     "text": [
      "**Radius\n",
      "\tTrue radius: 6.957e+08 km, Predicted Radius: 6.938e+08 km, Calculated Radius: 6.937e+08 km\n",
      "\tRatio to True Radius: Predicted: 0.997  Calculated:  0.997\n",
      "\n",
      "**Error\n",
      "\tPredicted Radius Error: 1.734e+07 km, Calculated Radius Error: 1.427e+07 km, ratio: 1.216\n",
      "\tPredicted Sun Radius 6.938e+08(1 +/- 0.025), Calculated Sun Radius 6.937e+08(1 +/- 0.021)\n"
     ]
    }
   ],
   "source": [
    "#compare calculated and predicted results\n",
    "print('**Radius')\n",
    "print(f'\\tTrue radius: {R_sun:.3e} km, Predicted Radius: {R_pred:.3e} km, Calculated Radius: {R_bar:.3e} km')\n",
    "print(f'\\tRatio to True Radius: Predicted: {R_pred/R_sun:.3f}  Calculated:  {R_bar/R_sun:.3f}')\n",
    "print('\\n**Error')\n",
    "\n",
    "pred_err_frac = R_pred_error/R_pred; calc_err_frac = R_error/R_bar\n",
    "print(f'\\tPredicted Radius Error: {R_pred_error:.3e} km, Calculated Radius Error: {R_error:.3e} km, ratio: {R_pred_error/R_error:.3f}')\n",
    "print(f'\\tPredicted Sun Radius {R_pred:.3e}(1 +/- {pred_err_frac:.3f}), Calculated Sun Radius {R_bar:.3e}(1 +/- {calc_err_frac:.3f})')"
   ]
  },
  {
   "cell_type": "markdown",
   "metadata": {},
   "source": [
    "The calculated and predicted radii are within 0.3% of the true solar radius and virtually identitcal to eachother. The predicted error, however is about 22% higher than the calculated error, which seems like quite a lot. This is likely due to the use of successive approximations -- four in this problem -- and the approximation errors accumulate.  Perhaps this is a good thing: precision infered by a series of successive approximation will tend to underestimate the precision or overstate the error in the  result."
   ]
  },
  {
   "cell_type": "code",
   "execution_count": 10,
   "metadata": {},
   "outputs": [
    {
     "data": {
      "text/plain": [
       "<matplotlib.legend.Legend at 0x1ef98477b20>"
      ]
     },
     "execution_count": 10,
     "metadata": {},
     "output_type": "execute_result"
    },
    {
     "data": {
      "image/png": "[encoded data removed]",
      "text/plain": [
       "<Figure size 576x432 with 1 Axes>"
      ]
     },
     "metadata": {
      "needs_background": "light"
     },
     "output_type": "display_data"
    }
   ],
   "source": [
    "#show results graphically\n",
    "fig, ax = plt.subplots(figsize=(8,6))\n",
    "experiment.MyHistogram(ax=ax, bins=50, label='Simulated results', alpha=0.5)\n",
    "ax.axvline(R_sun, color='red', lw=3, ls='-', label='True Radius')\n",
    "\n",
    "#calculated mean and standard deviation\n",
    "ax.axvline(R_bar, color='orange', ls='-', lw=3, label='Calculated Mean Radius')\n",
    "ax.axvline(R_bar+R_error, color='orange', ls=':', lw=2  )\n",
    "ax.axvline(R_bar-R_error, color='orange', ls=':', lw=2, label='Calculated Error')\n",
    "\n",
    "#predicted mean and standard deviation\n",
    "ax.axvline(R_pred, color='green', ls='-', lw=3, label='Predicted Mean Radius')\n",
    "ax.axvline(R_pred+R_pred_error, color='green', ls=':', lw=2  )\n",
    "ax.axvline(R_pred-R_pred_error, color='green', ls=':', lw=2, label='Predicted Error')\n",
    "\n",
    "ax.set_xlabel('Calculated Radius')\n",
    "ax.set_ylabel('Number of Trials')\n",
    "ax.legend(loc='upper right')\n",
    "\n"
   ]
  },
  {
   "cell_type": "markdown",
   "metadata": {},
   "source": [
    "The figure above shows the mean and standard deviation (error) calculated across the simulated measurements (green lines) and the mean and standard deviation predicted from the precision of the temperature and luminoisity measurements (orange lines).  The calculated and predicted mean radius are almost identical so the plotted green line (predicted) obscures the plotted orange line (calculated).\n",
    "Note that both the calculated and predicted error limits contain the true solar radius at approximately their midpoints.\n",
    "The higher precision of the calculated results vis-a-vis the predicted results is readily apparent."
   ]
  },
  {
   "cell_type": "markdown",
   "metadata": {},
   "source": [
    "### 3. Probability that the President Asked for Help from Russia Given that he Asked for Help from Ukraine"
   ]
  },
  {
   "cell_type": "markdown",
   "metadata": {},
   "source": [
    ">Let us use Bayes Theorem on a hypothetical example of a President of the United States who\n",
    "has been accused of using foreign governments to help win elections in this country.\n",
    "First estimate the Prior Probability. Call it x. It is the probability that any president or\n",
    "presidential candidate would ask another country for help from a foreign power in a US election.\n",
    "Then a new event occurs: The president is found to have asked Ukraine for help in his next\n",
    "election.\n",
    "Estimate the probability of his asking another country (like Ukraine) for help if he already\n",
    "asked Russia (or some other country) for help. Call it y.\n",
    "Estimate the probability of asking a country like Ukraine for help if he has never before asked\n",
    "for help. Call it z.\n",
    "What is the revised (posterior) probability estimate of his having cheating with Russia too?\n",
    "Use the formula P=xy/(xy+z(1-x)) "
   ]
  },
  {
   "cell_type": "markdown",
   "metadata": {},
   "source": [
    "Let:\n",
    "$$\n",
    "\\begin{equation*} U =\n",
    "  \\begin{cases}\n",
    "    0       & \\quad \\text{if President did not ask for Ukranian help}\\\\\n",
    "    1  & \\quad \\text{if President asked for Ukranian help}\n",
    "  \\end{cases}\n",
    "\\end{equation*}\n",
    "$$\n",
    "and:\n",
    "$$\n",
    "\\begin{equation*} R =\n",
    "  \\begin{cases}\n",
    "    0       & \\quad \\text{if President did not previously ask for Russian help}\\\\\n",
    "    1  & \\quad \\text{if President previously asked for Russian help}\n",
    "  \\end{cases}\n",
    "\\end{equation*}\n",
    "$$\n",
    "\n",
    "and let A be our prior knowledge of the probability that any preseident has asked for election help from any country in the past. Suppose:\n",
    "\n",
    "$$\n",
    "  \\begin{align*}\n",
    "    P(A=0)  &= 0.95 \\quad \\text{probability that any president does not ask for help}\\\\\n",
    "    P(A=1)  &= 0.05 \\quad \\text{probability that any president asks for help}\n",
    "  \\end{align*}\n",
    "$$\n",
    "\n",
    "Suppose further that if a president asked for election help previously, the odds are three to one that the president will ask for it again. This leads to the following four cases:\n",
    "$$\n",
    "\\begin{align*}\n",
    "P(U=0|R=0) &= P(A=0) = 0.95 \\\\\n",
    "P(U=1|R=0) &= P(A=1) = 0.05 \\\\\n",
    "P(U=0|R=1) &= 0.25 \\\\\n",
    "P(U=1|R=1) &= 0.75\n",
    "\\end{align*}\n",
    "$$\n",
    "\n",
    "Given that we know $U=1$, that is the President asked Ukraine for election help, we wish to determine the probability that the President previously asked Russia.  That is, we wish to compute $P(R=1|U=1)$\n"
   ]
  },
  {
   "cell_type": "markdown",
   "metadata": {},
   "source": [
    "### Bayes' Rule\n",
    "\n",
    "Bayes Rule, adapted for this problem states:\n",
    "$$\n",
    "P(R=r|U=1) = \\frac{P(R=r)\\times P(U=1|R=r)}{\\sum_{r=0,1}P(R=r)\\times P(U=1|R=r)} \\quad \\text{for}\\  r = 0,1\n",
    "$$\n",
    "\n",
    "$P(R=0)$ and $P(R=1)$ are the same as $P(A=0)$ and $P(A=1)$, respectively, that is the prior probabilty that a president asks Russia or any other country for election help which is assumed to be $0.05$.\n",
    "Given the four-case conditional probabilities above, Bayes' Rule works out for $r=1$ to:\n",
    "$$\n",
    "\\begin{align*}\n",
    "P(R=1|U=1) &= \\frac{P(R=1)\\times P(U=1|R=1)}{\\sum_{r=0,1}P(R=r)\\times P(U=1|R=r)}\\\\\n",
    "&=\\frac{0.05\\times 0.75}{(0.95\\times 0.05 + 0.05\\times 0.75)}\\\\\n",
    "&= 0.44\n",
    "\n",
    "\\end{align*}\n",
    "$$\n",
    "Thus under the assumed probabilities, the probability that the President asked for Russian help increased from 0.05 to 0.44 when it became known that the President asked for Ukranian help.\n",
    "**This represents a change of 0.39 from the prior belief.**\n"
   ]
  },
  {
   "cell_type": "markdown",
   "metadata": {},
   "source": [
    "### Using the `x`, `y` and `z` Substitutions\n",
    "\n",
    "Let `x` be the prior probability that a president asks any country for election help. This is by definition $P(A=1)$ in our previous notation and assumed to be 0.05.\n",
    "\n",
    "Let `y` be the probabilty that a president asks a second country for election help given that the president previously asked a first. This is by definition $P(U=1|R=1)$ from previous notation and assumed to be 3 times more likely (than not asking) or 0.75.\n",
    "\n",
    "Let `z` be the probability that a president asks Ukraine for help given that the president has previously never asked Russia or anybody else for help. In our previous notation, this is $P(U=1|R=0)$ which is the same as $P(A=0)$, i.e., the probability that the president asks for help the first time.\n",
    "\n",
    "Then the formula:\n",
    "$$\n",
    "P(R=1|U=1) = \\frac{x\\times y}{(x\\times y+z\\times(1-x))}\n",
    "$$\n",
    "works out to:\n",
    "$$\n",
    "\n",
    "P(R=1|U=1) = \\frac{0.05\\times 0.75}{0.05\\times 0.75 + 0.05(1-0.05) }\n",
    "= \\frac{0.04}{0.04 + 0.05}\n",
    "= 0.44\n",
    "$$\n",
    "which is the same result as when we used Bayes' Rule directly.\n"
   ]
  },
  {
   "cell_type": "markdown",
   "metadata": {},
   "source": [
    "### Sensitivity Analysis\n",
    "\n",
    "The calculations above assumed specific values for the prior probability: the probability that a president would ask any country for election help and for the conditional probability: the probability that a president would ask for election help a second time. We showed how much more probable the second request became.\n",
    "\n",
    "In this section, we examine the impact on the change in probability of varying the input assumptions. We vary both the prior and the conditional probabilities over the range (0..1.0) and compute the <u>difference</u> from the prior."
   ]
  },
  {
   "cell_type": "code",
   "execution_count": 11,
   "metadata": {},
   "outputs": [],
   "source": [
    "def bayes(prior, cond):\n",
    "    newprob = (prior*cond)/(prior*(1-prior)+prior*cond)\n",
    "    return newprob\n",
    "\n",
    "def makebins(min=0.0, max=1.0, nsteps=10):\n",
    "    #calcualte bin boundaries\n",
    "    bin_bound, bstep = np.linspace(min, max, nsteps+1, retstep=True, endpoint=True)\n",
    "    #calculate bin mid points\n",
    "    bin_mid = (bin_bound+bstep/2)[:-1]\n",
    "    return bin_bound, bin_mid"
   ]
  },
  {
   "cell_type": "code",
   "execution_count": 12,
   "metadata": {},
   "outputs": [
    {
     "data": {
      "text/plain": [
       "<matplotlib.legend.Legend at 0x1ef9855ad30>"
      ]
     },
     "execution_count": 12,
     "metadata": {},
     "output_type": "execute_result"
    },
    {
     "data": {
      "image/png": "[encoded data removed]",
      "text/plain": [
       "<Figure size 576x576 with 2 Axes>"
      ]
     },
     "metadata": {
      "needs_background": "light"
     },
     "output_type": "display_data"
    }
   ],
   "source": [
    "Nsteps = 100\n",
    "prior_bounds, priors = makebins(nsteps = Nsteps)\n",
    "cond_bounds, conds = makebins(nsteps = Nsteps)\n",
    "Priors, Conds = np.meshgrid(priors, conds)\n",
    "new_prob = bayes(Priors, Conds)\n",
    "\n",
    "fig, ax = plt.subplots(figsize=(8,8))\n",
    "#pcm = ax.pcolormesh(prior_bounds, cond_bounds, new_prob-Priors)\n",
    "pcm=plt.contourf(Priors, Conds, new_prob-Priors)\n",
    "ax.contour(Priors, Conds, new_prob-Priors )\n",
    "\n",
    "#previous assumptions\n",
    "ax.axhline(0.75, color='red', ls=':')\n",
    "ax.axvline(0.05, color='red', ls=':', label='Previously Assumed')\n",
    "\n",
    "#new assumptions\n",
    "ax.axhline(0.1, color='blue', ls=':')\n",
    "ax.axvline(0.8, color='blue', ls=':', label='Newly Assumed')\n",
    "\n",
    "cbar = plt.colorbar(pcm)\n",
    "cbar.set_label('Change from Prior', rotation=270)\n",
    "ax.set_title('Change in Probability')\n",
    "ax.set_ylabel('Conditional Probability')\n",
    "ax.set_xlabel('Prior Probability')\n",
    "ax.legend(loc='upper right')"
   ]
  },
  {
   "cell_type": "markdown",
   "metadata": {},
   "source": [
    "The figure above shows the <u>change</u> from the prior probility for each pair of  prior and conditional probabilities in the grid. The dotted red lines show the prior and conditional probbabilities assumed in the previous two sections (0.05 and 0.75, respectively). The dotted blue line represent a new set of assumptions which we will explore below.\n",
    "\n",
    "Notice that the largest changes in probability occur in the upper left quadrant of the graph. This region corresponds loosely to \"presidents are unlikely to ask for help, but if they do, they are highly likely to ask for it a second time.\" On the other hand, decreases in probability are in the region where \"presidents are highly likely to ask for help, but only once.\" That the President asked the Ukraine for help does not provide any indication that he also asked Russia.\n",
    "\n",
    "This last conclusion may seem somewhat counter-intuitive. To take a numerical example, suppose any president is 80% likely to ask for help, and if the president did, only 10% likely to ask a second time.\n",
    "\n",
    "According to __Bayes' Rule__:\n",
    "$$\n",
    "P(R=r|U=1) = \\frac{P(R=r)\\times P(U=1|R=r)}{\\sum_{r=0,1}P(R=r)\\times P(U=1|R=r)} \\quad \\text{for}\\  r = 0,1\n",
    "$$\n",
    "which under the new assumptions becomes:\n",
    "$$\n",
    "\\begin{align*}\n",
    "P(R=1|U=1) &= \\frac{P(R=1)\\times P(U=1|R=1)}{\\sum_{r=0,1}P(R=r)\\times P(U=1|R=r)}\\\\\n",
    "&=\\frac{0.8\\times 0.1}{(0.20\\times 0.80 + 0.80\\times 0.1)}\\\\\n",
    "&= 0.33\n",
    "\n",
    "\\end{align*}\n",
    "$$\n",
    "\n",
    "which is a decrease of 0.47 from the prior assumption. See blue crosshairs in the plot above. In this case it is assumed to be unlikely that the President asks for help second time, and given that he made a request, the likelihood of the it being a second request decreases."
   ]
  }
 ],
 "metadata": {
  "interpreter": {
   "hash": "9a63a23aa8f0c95be58cce50c14032e29289dd9e7f4ab6c5fb465f3819b93d42"
  },
  "kernelspec": {
   "display_name": "Python 3",
   "language": "python",
   "name": "python3"
  },
  "language_info": {
   "codemirror_mode": {
    "name": "ipython",
    "version": 3
   },
   "file_extension": ".py",
   "mimetype": "text/x-python",
   "name": "python",
   "nbconvert_exporter": "python",
   "pygments_lexer": "ipython3",
   "version": "3.8.8"
  }
 },
 "nbformat": 4,
 "nbformat_minor": 4
}
