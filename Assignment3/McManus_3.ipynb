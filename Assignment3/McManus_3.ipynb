{
 "cells": [
  {
   "cell_type": "markdown",
   "id": "77845ee9-1f04-43d1-8844-83abc2c8d2a6",
   "metadata": {},
   "source": [
    "<h1 style=\"text-align: center\"> Assignment #3 </h1>\n",
    "\n",
    "\n",
    "<h4 style=\"text-align: center\"> Kevin McManus </h4>\n",
    "<h4 style=\"text-align: center\"> Student ID: 109702479</h4>"
   ]
  },
  {
   "cell_type": "markdown",
   "id": "4e314331",
   "metadata": {},
   "source": [
    "## Data Class"
   ]
  },
  {
   "cell_type": "markdown",
   "id": "c182ae57",
   "metadata": {},
   "source": [
    "Copied from the `Chapter3.ipynb` notebook, with the following modifcations:\n",
    "\n",
    "* `GetTableData` method now calculates attribute `ny` correctly\n",
    "* Implemented `Slice` method which slices the `x` and `y` data arrays by an arbitrary `slice` object\n",
    "* Changed default linestyle in `MyHistogram`. The previous default, `steps` appears not to work in newer versions of `matplotlib`"
   ]
  },
  {
   "cell_type": "code",
   "execution_count": 1,
   "id": "5bfac31a",
   "metadata": {},
   "outputs": [],
   "source": [
    "#Chapter 3\n",
    "import numpy as np\n",
    "import pandas as pd\n",
    "import os\n",
    "import matplotlib.pyplot as plt\n",
    "from copy import deepcopy\n",
    "from scipy.interpolate import UnivariateSpline\n",
    "import scipy.ndimage\n",
    "from scipy import signal\n",
    "from astropy.io import fits\n",
    "\n",
    "class MyData:\n",
    "    def __init__(self,filename='NoFile'):\n",
    "        self.filename = filename\n",
    "        self.ndim = 0 \n",
    "        self.x = []\n",
    "        self.nx = 0\n",
    "        self.y = []\n",
    "        self.ny = 0\n",
    "        self.z = []\n",
    "        self.nz = 0\n",
    "        self.array = []\n",
    "        self.header = []\n",
    "        self.nxa = 0\n",
    "        self.nya = 0\n",
    "        \n",
    "    def xline(self,xmin,xmax,nx):\n",
    "        self.nx = nx\n",
    "        self.ndim = 1\n",
    "        self.x = np.linspace(xmin,xmax,nx)\n",
    "\n",
    "    def yline(self,a,b):\n",
    "        if(self.ndim == 1):\n",
    "            self.ny = self.nx\n",
    "            self.y = a + b*self.x\n",
    "        else:\n",
    "            print(\"x value not one dimensional\")\n",
    "\n",
    "    def plotxy(self):\n",
    "        plt.cla()\n",
    "        plt.title(self.filename)\n",
    "        plt.plot(self.x,self.y)\n",
    "        plt.show()\n",
    "\n",
    "    def plotpoints(self):\n",
    "        plt.cla()\n",
    "        plt.title(self.filename)\n",
    "        #plt.plot(self.x,self.y)\n",
    "        plt.scatter(self.x, self.y, s=2, marker='o', c='black')\n",
    "        plt.show()\n",
    "\n",
    "    def GetFits(self, filename):\n",
    "        self.filename = filename\n",
    "        hdul = fits.open(filename)\n",
    "        self.array = fits.getdata(filename)\n",
    "        self.header = hdul[0].header\n",
    "        sh = np.shape(self.array)\n",
    "        self.nxa = sh[0]\n",
    "        self.nya = sh[1]\n",
    "        self.ndim = 2\n",
    "            \n",
    "    def GetTableData(self, filename):\n",
    "        self.filename = filename\n",
    "        data_array=np.genfromtxt(filename)\n",
    "        s = data_array.shape\n",
    "        if len(s) == 1 :\n",
    "            self.x= data_array\n",
    "            self.nx = s[0]\n",
    "        if len(s) == 2 :\n",
    "            self.x = data_array[:, 0]\n",
    "            self.y = data_array[:, 1]\n",
    "            self.nx = s[0]\n",
    "            self.ny = s[0] #one y value for each x value\n",
    "\n",
    "    def WriteTableData(self,filename='test.txt'):\n",
    "        f = open(filename,\"w\")\n",
    "        if self.ny == 0:\n",
    "            for i in range(0,self.nx):\n",
    "                f.write('%8.4f\\n' % self.x[i] )\n",
    "        else:\n",
    "            for i in range(0,self.nx):\n",
    "                f.write('%8.4f  %8.4f\\n' % (self.x[i],self.y[i]))\n",
    "        f.close()\n",
    "\n",
    "    def Quicklook(self):\n",
    "        if (self.nx == 0):\n",
    "            print(\"Whoops! No Data\")\n",
    "            return\n",
    "        plt.cla()\n",
    "        if self.ny == 0:\n",
    "            plt.plot(self.x, c='black')\n",
    "        else:\n",
    "            plt.scatter(self.x, self.y, s=2, marker='o', c='black')\n",
    "        plt.show()\n",
    "        print(\"length of x list is \",len(self.x), \"items\")\n",
    "        \n",
    "    def ReadInteger16(self,filename,nxa=256,nya=256):\n",
    "        self.filename = filename\n",
    "        data = np.fromfile('m33.dat', dtype='i2')\n",
    "        self.array = np.reshape(np.array(data),(nxa,nya))\n",
    "        self.ndim = 2\n",
    "        self.nxa = nxa\n",
    "        self.nya = nya\n",
    "        \n",
    "    def WriteFloat64(self,filename=\"test.dat\"):\n",
    "        self.filename = filename\n",
    "        f= open(self.filename,\"w+\")\n",
    "        self.x.tofile(f)\n",
    "        f.close()\n",
    "\n",
    "    def ReadFloat64(self,filename=\"test.dat\",nxa=256,nya=256):\n",
    "        self.filename = filename\n",
    "        f= open(self.filename,\"r\")\n",
    "        self.y=np.fromfile(f,'f8')\n",
    "        f.close()\n",
    "\n",
    "    def ReadExcelColumn(self, filename, sheetname, columnname):\n",
    "        self.filename = filename\n",
    "        e = pd.ExcelFile(filename)\n",
    "        ep = e.parse(sheetname)\n",
    "        df=ep[columnname]\n",
    "        self.x = df.values\n",
    "        self.nx = len(self.x)\n",
    "        self.ndim = 1\n",
    "        \n",
    "    def WriteExcelColumn(self, filename):\n",
    "        df = pd.DataFrame(data=self.x)\n",
    "        with pd.ExcelWriter(filename) as writer:\n",
    "            df.to_excel(writer)\n",
    "            \n",
    "    def MyHistogram(self,bins=10):\n",
    "        hi=np.histogram(self.x,bins=bins)\n",
    "        hy=np.array(hi[0])\n",
    "        hx=np.array(hi[1])\n",
    "        hx=hx[1:]\n",
    "        plt.cla()\n",
    "        #plt.plot(hx,hy,linestyle='steps')\n",
    "        plt.plot(hx,hy,linestyle='-')\n",
    "        plt.show()\n",
    "\n",
    "    def Slice(self, slc):\n",
    "        \"\"\"\n",
    "        slices self.x and self.y according to slc\n",
    "        \"\"\"\n",
    "        if self.nx == 0:\n",
    "            raise ValueError('Data object has no data to slice')\n",
    "        self.x = self.x[slc]\n",
    "        self.nx = len(self.x)\n",
    "        if self.ny != 0:\n",
    "            self.y = self.y[slc]\n",
    "            self.ny = len(self.y)\n",
    "\n"
   ]
  },
  {
   "cell_type": "markdown",
   "id": "fbce0e10",
   "metadata": {},
   "source": [
    "## `Rays.txt`"
   ]
  },
  {
   "cell_type": "markdown",
   "id": "67518f6e",
   "metadata": {},
   "source": [
    "##### Create a `Data` Object"
   ]
  },
  {
   "cell_type": "code",
   "execution_count": 2,
   "id": "576d5d40",
   "metadata": {},
   "outputs": [],
   "source": [
    "#create the data object\n",
    "d= MyData('rays.txt')"
   ]
  },
  {
   "cell_type": "markdown",
   "id": "fb2642e4",
   "metadata": {},
   "source": [
    "##### Read in the `rays.txt` File"
   ]
  },
  {
   "cell_type": "code",
   "execution_count": 3,
   "id": "2cc8c00b",
   "metadata": {},
   "outputs": [
    {
     "name": "stdout",
     "output_type": "stream",
     "text": [
      "d.nx: 980, d.ny: 980, len(d.x): 980, len(d.y): 980\n"
     ]
    }
   ],
   "source": [
    "#load up the rays.txt file\n",
    "d.GetTableData('rays.txt')\n",
    "print(f'd.nx: {d.nx}, d.ny: {d.ny}, len(d.x): {len(d.x)}, len(d.y): {len(d.y)}')"
   ]
  },
  {
   "cell_type": "markdown",
   "id": "a8f84b82",
   "metadata": {},
   "source": [
    "##### Verify with `QuickLook()`"
   ]
  },
  {
   "cell_type": "code",
   "execution_count": 4,
   "id": "53eb591b",
   "metadata": {},
   "outputs": [
    {
     "data": {
      "image/png": "[encoded data removed]",
      "text/plain": [
       "<Figure size 432x288 with 1 Axes>"
      ]
     },
     "metadata": {
      "needs_background": "light"
     },
     "output_type": "display_data"
    },
    {
     "name": "stdout",
     "output_type": "stream",
     "text": [
      "length of x list is  980 items\n"
     ]
    }
   ],
   "source": [
    "#verify with quicklook\n",
    "d.Quicklook()"
   ]
  },
  {
   "cell_type": "markdown",
   "id": "309e5a4e",
   "metadata": {},
   "source": [
    "##### Create New Text File"
   ]
  },
  {
   "cell_type": "code",
   "execution_count": 5,
   "id": "62ab019e",
   "metadata": {},
   "outputs": [],
   "source": [
    "#create new text file with first two columns of input file\n",
    "#note, first column is in Data.X, second column is in Data.y\n",
    "d.WriteTableData(filename='rays2.txt')"
   ]
  },
  {
   "cell_type": "markdown",
   "id": "63950f3c",
   "metadata": {},
   "source": [
    "##### Show Mean and Standard Deviation"
   ]
  },
  {
   "cell_type": "code",
   "execution_count": 6,
   "id": "31168fcd",
   "metadata": {},
   "outputs": [
    {
     "name": "stdout",
     "output_type": "stream",
     "text": [
      "rays.txt, first column, mean: -7.222e+01, standard deviation: 3.236e-02\n"
     ]
    }
   ],
   "source": [
    "# mean and stddev of D.x\n",
    "print(f'rays.txt, first column, mean: {d.x.mean():.3e}, '\n",
    "        f'standard deviation: {d.x.std(ddof=1):.3e}')"
   ]
  },
  {
   "cell_type": "markdown",
   "id": "e41c7d2f",
   "metadata": {},
   "source": [
    "##### Truncate to 25 Elements"
   ]
  },
  {
   "cell_type": "code",
   "execution_count": 8,
   "id": "a34edfec",
   "metadata": {},
   "outputs": [
    {
     "name": "stdout",
     "output_type": "stream",
     "text": [
      "d2.nx: 25, d2.ny: 25, len(d2.x): 25, len(d2.y): 25\n"
     ]
    }
   ],
   "source": [
    "from copy import deepcopy\n",
    "# truncate data to first 25 elements\n",
    "d2 = deepcopy(d) #preserve object d\n",
    "slc = slice(None, 25)\n",
    "d2.Slice(slc)\n",
    "\n",
    "print(f'd2.nx: {d2.nx}, d2.ny: {d2.ny}, len(d2.x): {len(d2.x)}, len(d2.y): {len(d2.y)}')"
   ]
  },
  {
   "cell_type": "markdown",
   "id": "5b3ced4f",
   "metadata": {},
   "source": [
    "##### Write out Truncated Data"
   ]
  },
  {
   "cell_type": "code",
   "execution_count": 9,
   "id": "eb61634e",
   "metadata": {},
   "outputs": [],
   "source": [
    "# write out the truncated data\n",
    "d2.WriteTableData('rays3.txt')"
   ]
  },
  {
   "cell_type": "markdown",
   "id": "e9b9db27",
   "metadata": {},
   "source": [
    "See the excel file `McManus_3.xlsx` for reading and plotting the data in `rays3.txt`."
   ]
  },
  {
   "cell_type": "markdown",
   "id": "670ba19f",
   "metadata": {},
   "source": [
    "##### Additional Data Visualization"
   ]
  },
  {
   "cell_type": "code",
   "execution_count": 7,
   "id": "6096c33f",
   "metadata": {},
   "outputs": [
    {
     "data": {
      "image/png": "[encoded data removed]",
      "text/plain": [
       "<Figure size 864x288 with 3 Axes>"
      ]
     },
     "metadata": {
      "needs_background": "light"
     },
     "output_type": "display_data"
    }
   ],
   "source": [
    "# Additional Data Visualization\n",
    "fig, ax = plt.subplots(ncols=2, figsize=(12,4), sharex=True, sharey=True)\n",
    "ax[0].scatter(d.x, d.y, s=2); ax[0].set_title('Scatter Plot')\n",
    "pcm = ax[1].hist2d(d.x, d.y, bins=50, density=True); ax[1].set_title('Histogram')\n",
    "cbar = fig.colorbar(pcm[3], label='Points per Pixel')\n",
    "cbar.set_label('Points per Pixel', rotation=270, va='bottom')"
   ]
  },
  {
   "cell_type": "markdown",
   "id": "a414ea6a",
   "metadata": {},
   "source": [
    "## `grades.xlsx`"
   ]
  },
  {
   "cell_type": "markdown",
   "id": "12dfc08a",
   "metadata": {},
   "source": [
    "##### Read the `grades.xlsx` Excel File"
   ]
  },
  {
   "cell_type": "code",
   "execution_count": 10,
   "id": "7b0a6121",
   "metadata": {},
   "outputs": [],
   "source": [
    "#create new object to hold the grade info\n",
    "xlsx = MyData()\n",
    "\n",
    "#read in the file\n",
    "xlsx.ReadExcelColumn('grades.xlsx','Sheet1','Final Percentage')"
   ]
  },
  {
   "cell_type": "markdown",
   "id": "78ecb795",
   "metadata": {},
   "source": [
    "##### Show Mean and Standard Deviation of Grades"
   ]
  },
  {
   "cell_type": "code",
   "execution_count": 11,
   "id": "c8b0b54c",
   "metadata": {},
   "outputs": [
    {
     "name": "stdout",
     "output_type": "stream",
     "text": [
      "filename: grades.xlsx, the average is: 82.4%, and sigma is: 16.5%\n"
     ]
    }
   ],
   "source": [
    "#show mean and stddev\n",
    "print(f'filename: {xlsx.filename}, the average is: {xlsx.x.mean():.1f}%, '\n",
    "        f'and sigma is: {xlsx.x.std(ddof=1):.1f}%')"
   ]
  },
  {
   "cell_type": "markdown",
   "id": "c8705990",
   "metadata": {},
   "source": [
    "##### Data Visualization of Grades"
   ]
  },
  {
   "cell_type": "code",
   "execution_count": 12,
   "id": "735db414",
   "metadata": {},
   "outputs": [
    {
     "data": {
      "image/png": "[encoded data removed]",
      "text/plain": [
       "<Figure size 432x288 with 1 Axes>"
      ]
     },
     "metadata": {
      "needs_background": "light"
     },
     "output_type": "display_data"
    }
   ],
   "source": [
    "xlsx.MyHistogram()"
   ]
  },
  {
   "cell_type": "code",
   "execution_count": 13,
   "id": "1632acfb",
   "metadata": {},
   "outputs": [
    {
     "data": {
      "text/plain": [
       "<matplotlib.legend.Legend at 0x1a9927f6be0>"
      ]
     },
     "execution_count": 13,
     "metadata": {},
     "output_type": "execute_result"
    },
    {
     "data": {
      "image/png": "[encoded data removed]",
      "text/plain": [
       "<Figure size 432x288 with 1 Axes>"
      ]
     },
     "metadata": {
      "needs_background": "light"
     },
     "output_type": "display_data"
    }
   ],
   "source": [
    "med = np.median(xlsx.x)\n",
    "bins=np.arange(0,110,10)\n",
    "\n",
    "fig, ax = plt.subplots()\n",
    "zz=ax.hist(xlsx.x, bins=bins, alpha=0.5, label='Count')\n",
    "ax.axvline(med, color='red', lw=4, ls=':', label='median')\n",
    "ax.set_xlabel('Final Percentage (%)')\n",
    "ax.set_ylabel('Number of Students')\n",
    "ax.set_title('Distribution of Final Percentage')\n",
    "ax.grid(axis='y')\n",
    "ax.legend()"
   ]
  }
 ],
 "metadata": {
  "interpreter": {
   "hash": "9a63a23aa8f0c95be58cce50c14032e29289dd9e7f4ab6c5fb465f3819b93d42"
  },
  "kernelspec": {
   "display_name": "Python 3",
   "language": "python",
   "name": "python3"
  },
  "language_info": {
   "codemirror_mode": {
    "name": "ipython",
    "version": 3
   },
   "file_extension": ".py",
   "mimetype": "text/x-python",
   "name": "python",
   "nbconvert_exporter": "python",
   "pygments_lexer": "ipython3",
   "version": "3.8.8"
  }
 },
 "nbformat": 4,
 "nbformat_minor": 5
}
