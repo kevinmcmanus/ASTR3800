{
 "cells": [
  {
   "cell_type": "markdown",
   "metadata": {},
   "source": [
    "<h1 style=\"text-align: center\"> Assignment #5 </h1>\n",
    "\n",
    "\n",
    "<h4 style=\"text-align: center\"> Kevin McManus </h4>\n",
    "<h4 style=\"text-align: center\"> Student ID: 109702479</h4>"
   ]
  },
  {
   "cell_type": "code",
   "execution_count": 1,
   "metadata": {},
   "outputs": [],
   "source": [
    "import numpy as np\n",
    "import pandas as pd"
   ]
  },
  {
   "cell_type": "markdown",
   "metadata": {},
   "source": [
    "## 1. Instrument Class\n",
    "> The Instrument class will be defined as follows: \n"
   ]
  },
  {
   "cell_type": "code",
   "execution_count": 2,
   "metadata": {},
   "outputs": [],
   "source": [
    "class Instrument:\n",
    "    def __init__(self,name='Unnamed', nlam = 100, lam_min = 100., lam_max = 1000., area = 1.):\n",
    "        \"\"\"\n",
    "        Constructs an Instrument object.\n",
    "\n",
    "        Arguments:\n",
    "            nlam: int; number of wavelength bins\n",
    "            lam_min, lam_max: float; wavelength minimum and maximum, NANOMETERS\n",
    "            area: float or ndarray of floats, collector area, meters; if ndarray, length must match nlam parameter\n",
    "        \"\"\"\n",
    "        self.name = name\n",
    "        self.nlam = nlam\n",
    "        self.lam_min = lam_min\n",
    "        self.lam_max = lam_max\n",
    "        self.lam = np.linspace(lam_min, lam_max, nlam )\n",
    "        self.lambin = (lam_max-lam_min)/float(nlam)\n",
    "        self.area = area\n",
    "\n",
    "    def __repr__(self):\n",
    "        reprstr='Instrument Object; '+ ', '.join([f'{p} = {getattr(self,p)}' for p in ['name', 'nlam', 'lam_min', 'lam_max', 'area']])\n",
    "        return reprstr\n",
    "\n",
    "    def lam_meters(self):\n",
    "        \"\"\"\n",
    "        Computes and returns the intruments wavelength property to meters\n",
    "        \"\"\"\n",
    "\n",
    "        nm_per_meter = 1e9\n",
    "        return self.lam/nm_per_meter\n",
    "\n",
    "    def binwidth_m(self):\n",
    "        \"\"\"\n",
    "        Return the width in meters of the instruments wavelength bins.\n",
    "        \"\"\"\n",
    "        nm_per_meter = 1e9\n",
    "        return self.lambin/nm_per_meter"
   ]
  },
  {
   "cell_type": "markdown",
   "metadata": {},
   "source": [
    "> Create one instrument called ‘Generic” by the line:"
   ]
  },
  {
   "cell_type": "code",
   "execution_count": 3,
   "metadata": {},
   "outputs": [
    {
     "data": {
      "text/plain": [
       "Instrument Object; name = Generic, nlam = 101, lam_min = 100.0, lam_max = 2100.0, area = 1.0"
      ]
     },
     "execution_count": 3,
     "metadata": {},
     "output_type": "execute_result"
    }
   ],
   "source": [
    "I=Instrument(name='Generic', nlam = 101, lam_min = 100., lam_max = 2100., area = 1.)\n",
    "I"
   ]
  },
  {
   "cell_type": "markdown",
   "metadata": {},
   "source": [
    "## 2. Model a Star\n",
    "\n",
    ">Use the Star() class from assignment 2. Create an instance of the Star class called “Sun10” and\n",
    "put in the characteristics of the Sun, but put the Sun at 10pc.\n",
    "\n",
    "Below is the Star class from Assignment \\#2 with some embellishments for the current assignment. Most of these are unit conversion methods that convert star properties to SI units, For example, the `Star.radius_m()` method returns the star's radius in meters converting from the input units of solar radii.\n"
   ]
  },
  {
   "cell_type": "code",
   "execution_count": 4,
   "metadata": {},
   "outputs": [],
   "source": [
    "class Star():\n",
    "    # required star properties the Star object keeps track of\n",
    "    _starprops = ['ra','dec','distance','radius','mass','teff']\n",
    "    # properties to coerce to floats\n",
    "    _starpropfloats = ['distance','radius','mass','teff']\n",
    "    \n",
    "    def __init__(self, name, **kwargs):\n",
    "        \"\"\"\n",
    "        Constructs a Star Object.\n",
    "\n",
    "        Arguments:\n",
    "            ra: string, right ascension (J2000) hh:mm:ss.ssss\n",
    "            dec: string, declination (J2000) dd:mm:ss.sssss\n",
    "            distance: float, pc\n",
    "            radius: float, soloar radii\n",
    "            mass: float, solar masses\n",
    "            teff: float, effective temperature, K\n",
    "        \"\"\"      \n",
    "        self.name = name # required\n",
    "        \n",
    "        #required properties; will bomb if property not supplied\n",
    "        for prop in Star._starprops:\n",
    "            setattr(self, prop, kwargs.pop(prop))\n",
    "\n",
    "        #make sure the props that are supposed to be floats are floats\n",
    "        for prop in Star._starpropfloats:\n",
    "            setattr(self, prop, float(getattr(self, prop)))\n",
    "       \n",
    "    def __repr__(self):\n",
    "        str = f'Star object: name: {self.name}'\n",
    "        for prop in Star._starprops:\n",
    "            v = getattr(self, prop, None)\n",
    "            if v is not None:\n",
    "                str += f', {prop}: {v}'            \n",
    "        return str\n",
    "\n",
    "    def radius_m(self):\n",
    "        \"\"\"\n",
    "        Returns star radius in m.\n",
    "        \"\"\"\n",
    "        sun_r_m = 6.957e+08 # m\n",
    "        return self.radius*sun_r_m\n",
    "\n",
    "    def distance_m(self):\n",
    "        \"\"\"\n",
    "        Returns distance to star in m.\n",
    "        \"\"\"\n",
    "        m_per_pc = 3.085677581491367e+16\n",
    "        dist_m = self.distance*m_per_pc\n",
    "        return dist_m\n",
    "        \n",
    "    def surface_area(self):\n",
    "        \"\"\"\n",
    "        Returns surface area of star in m^2.\n",
    "        \"\"\"\n",
    "        r = self.radius_m()\n",
    "        return 4*np.pi*r**2\n",
    "        \n",
    "    def mass_g(self):\n",
    "        \"\"\"\n",
    "        Returns star mass in kg.\n",
    "        \"\"\"\n",
    "        sun_m_kg = 1.98841e+30 #kg\n",
    "        return self.mass*sun_m_kg\n",
    "\n",
    "    def Wien(self):\n",
    "        \"\"\"\n",
    "        Computes and returns wavelength (in nm) of maximum flux given star's temperature\n",
    "        \"\"\"\n",
    "        nm_per_meter = 1e9\n",
    "        lmbda_max = 0.0029/self.teff #meters\n",
    "        return lmbda_max*nm_per_meter\n",
    "\n",
    "    def surface_flux(self):\n",
    "        \"\"\"\n",
    "        Computes flux on the surface of the star using StefanBoltzmann law\n",
    "        Returns:\n",
    "            flux: float, W m^-2\n",
    "        \"\"\"\n",
    "        sb =  5.67037e-08 #stefan boltzmann const. W / (K4 m2)\n",
    "        self.flux = flux = sb*np.power(self.teff,4)\n",
    "        return flux\n",
    "\n",
    "    def luminosity(self):\n",
    "        \"\"\"\n",
    "        Computes and returns star's luminosity (in Watts) from its radius and temperature\n",
    "        \"\"\"\n",
    "        sa = self.surface_area()\n",
    "        flux = self.surface_flux()\n",
    "        return flux*sa\n",
    "\n",
    "    def to_dict(self):\n",
    "        \"\"\"\n",
    "        Returns a dict of star properties.\n",
    "        \"\"\"\n",
    "        d = dict([(prop,getattr(self,prop,None)) for prop in ['name']+Star._starprops])\n",
    "        return d"
   ]
  },
  {
   "cell_type": "code",
   "execution_count": 22,
   "metadata": {},
   "outputs": [
    {
     "name": "stdout",
     "output_type": "stream",
     "text": [
      "Help on function __init__ in module __main__:\n",
      "\n",
      "__init__(self, name, **kwargs)\n",
      "    Constructs a Star Object.\n",
      "    \n",
      "    Arguments:\n",
      "        ra: string, right ascension (J2000) hh:mm:ss.ssss\n",
      "        dec: string, declination (J2000) dd:mm:ss.sssss\n",
      "        distance: float, pc\n",
      "        radius: float, soloar radii\n",
      "        mass: float, solar masses\n",
      "        teff: float, effective temperature, K\n",
      "\n"
     ]
    }
   ],
   "source": [
    "help(Star.__init__)"
   ]
  },
  {
   "cell_type": "code",
   "execution_count": 5,
   "metadata": {},
   "outputs": [],
   "source": [
    "mintaka = Star('Mintaka', ra='05:32:00.4009', dec='-00:17:56.7424',\n",
    "            distance=380, mass= 24, teff=29500, radius=16.5)\n",
    "\n",
    "#Sun at 10pc\n",
    "Sun10 = Star('Sun10', ra='00:00:04', dec='00:00:25',\n",
    "            distance=10, mass= 1, teff=5780, radius=1.0)\n"
   ]
  },
  {
   "cell_type": "code",
   "execution_count": 6,
   "metadata": {},
   "outputs": [
    {
     "data": {
      "text/plain": [
       "Star object: name: Sun10, ra: 00:00:04, dec: 00:00:25, distance: 10.0, radius: 1.0, mass: 1.0, teff: 5780.0"
      ]
     },
     "execution_count": 6,
     "metadata": {},
     "output_type": "execute_result"
    }
   ],
   "source": [
    "Sun10"
   ]
  },
  {
   "cell_type": "markdown",
   "metadata": {},
   "source": [
    "### Model Class\n",
    "\n",
    ">Copy the Model Class from Chapter4.ipynb into your surname_5.ipynb and rename the class\n",
    "MyModel(). Create an empty instance of MyModel called S10. \n",
    "\n",
    "`Model` class from the text, with additional `plot_spectrum` class method."
   ]
  },
  {
   "cell_type": "code",
   "execution_count": 7,
   "metadata": {},
   "outputs": [],
   "source": [
    "import numpy as np\n",
    "import matplotlib.pyplot as plt\n",
    "\n",
    "class Model:\n",
    "    def __init__(self,name=\"undefined\"):\n",
    "        self.name = name\n",
    "        self.npt = 0\n",
    "        self.x = []\n",
    "        self.y = []\n",
    "        self.cumy = []\n",
    "        self.dx = []\n",
    "\n",
    "    def __repr__(self):\n",
    "        reprstr = f'Model object; name: {self.name}'\n",
    "        return reprstr\n",
    "\n",
    "        \n",
    "    def Xarray(self,npt=10,xmin=0.,xmax=1.):\n",
    "        self.npt = npt\n",
    "        self.x = np.linspace(xmin, xmax, npt, endpoint=False)\n",
    "        self.dx = (xmax-xmin)/(npt)\n",
    "        \n",
    "    def PlotModel(self):\n",
    "        plt.title(self.name)\n",
    "        plt.plot(self.x,self.y)\n",
    "        plt.show()\n",
    "\n",
    "    def plot_spectrum(self, **kwargs):\n",
    "        ax = kwargs.pop('ax', None)\n",
    "        title = kwargs.pop('title', self.name)\n",
    "        which = kwargs.pop('which','flux')\n",
    "\n",
    "        drawstyle = None\n",
    "        if which == 'flux':\n",
    "            obsval = self.f_obs_lambda\n",
    "        elif which == 'luminosity':\n",
    "            obsval = self.luminosity_lambda\n",
    "        elif which == 'instrument':\n",
    "            obsval = self.inst_flux_lambda\n",
    "            drawstyle = 'steps'\n",
    "        else:\n",
    "            raise ValueError(f'which must be \\'flux\\' or \\'luminosity\\'; which: {str(which)}')\n",
    "\n",
    "        nm_per_m = 1e9\n",
    "        \n",
    "        fig = None\n",
    "        if ax is None:\n",
    "            fig, ax = plt.subplots()\n",
    "\n",
    "        lmbda_nm = self.lmbda*nm_per_m\n",
    "\n",
    "        ax.plot(lmbda_nm, obsval, drawstyle = drawstyle, **kwargs)\n",
    "\n",
    "        ax.set_xlabel(r'$Wavelength (nm)$')\n",
    "        ax.set_ylabel(r'$Joule$')\n",
    "        ax.set_title(title)     \n",
    "\n"
   ]
  },
  {
   "cell_type": "markdown",
   "metadata": {},
   "source": [
    "### `BlackBody` Class Method\n",
    "> Add a function called Blackbody() to MyModel. It will have three input parameters: an instance\n",
    "of the Star class, an instance of the Instrument class, and an observing time in seconds.\n",
    "Blackbody will take the wavelength array of the instrument class and the temperature of the star,\n",
    "and will use the Planck function to predict the energy recorded in each bin of the instrument\n",
    "during the specified observing time.\n",
    "\n",
    "The blackbody or Planck equation is:\n",
    "$$\n",
    "B_\\lambda(T) = \\frac{2hc^2}{\\lambda^5}\\frac{1}{e^\\frac{hc}{\\lambda k_B T} -1}\n",
    "$$\n",
    "This equation yields the energy intensity of a unit of area radiating on the surface of star. To get the flux on the surface of the star, this quantity  must be integrated over the solid angle radiating outward.\n",
    "$$\n",
    "f_\\lambda = \\int\\limits_{\\phi=0}^{2\\pi}\\int\\limits_{\\theta=0}^{\\pi/2}B_\\lambda(T) \\cos \\theta \\sin \\theta d \\theta d \\phi\n",
    "$$\n",
    "which works out to:\n",
    "$$\n",
    "f_\\lambda = \\pi B_\\lambda(T)\n",
    "$$\n",
    "To get the star's luminosity at a particular wavelength, $L_\\lambda$ the flux must be multiplied by the surface area of the star. That is:\n",
    "$$\n",
    "L_\\lambda = f_\\lambda*4\\pi R_{star}^2\n",
    "$$\n",
    "And, finally, to predict the flux an observer measures at some distance $D$ from the star, divide by $4\\pi D^2$ as in:\n",
    "$$\n",
    "\\begin{align*}\n",
    "f_{\\lambda,obs} &= L_\\lambda /4\\pi D^2 \\\\\n",
    "&= f_\\lambda*4\\pi R_{star}^2/4\\pi D^2 \\\\\n",
    "&= f_\\lambda R_{star}^2/D^2\n",
    "\\end{align*}\n",
    "$$"
   ]
  },
  {
   "cell_type": "code",
   "execution_count": 8,
   "metadata": {},
   "outputs": [],
   "source": [
    "#class method for Model object\n",
    "def BlackBody(self, star, inst, obstime):\n",
    "        #some constants(mks units)\n",
    "        c = 2.99792e+08 #m s^-1; speed of light\n",
    "        h = 6.62607e-34 #J s; Planck's constant\n",
    "        k = 1.38065e-23 #J k^1- ; Boltzmann's constant\n",
    "\n",
    "        self.lmbda = lmbda = inst.lam_meters()\n",
    "        temp = star.teff\n",
    "\n",
    "        #construct the intensity (B_lambda) as product of two terms\n",
    "        #first term:\n",
    "        first_term = (2*h*c**2)/np.power(lmbda, 5)\n",
    "\n",
    "        #second term:\n",
    "        expnt = h*c/(lmbda*k*temp)\n",
    "        second_term = 1/(np.exp(expnt)-1)\n",
    "\n",
    "        B_lambda = first_term*second_term #units: J s^-1 m^-2 m^-1 steradian^-1\n",
    "\n",
    "        #B_lambda is an infintesimally small area on body's surface radiating isotropically\n",
    "        #Intergrate over surface of the area that is facing outward\n",
    "        #this integration gets rid of the steradian term above\n",
    "        #See Maoz, p12, eq 2.5\n",
    "        f_lambda = np.pi*B_lambda\n",
    "\n",
    "        #f_lambda need to be multiplied by surface area of star to get its luminosity\n",
    "        L_lambda = f_lambda*star.surface_area()\n",
    "        self.luminosity_lambda = L_lambda\n",
    "\n",
    "        #flux at the observer\n",
    "        f_obs_lambda = L_lambda/(4*np.pi*star.distance_m()**2)\n",
    "        self.f_obs_lambda = f_obs_lambda\n",
    "\n",
    "        #flux in the instrument bins\n",
    "        #multiply the spectrum by the bin width, bin area and obstime to get the energy in each instrument bin\n",
    "        dx = inst.binwidth_m()\n",
    "        inst_flux = f_obs_lambda*dx*inst.area*obstime\n",
    "\n",
    "        #update the model with the flux values\n",
    "        self.inst_flux_lambda = inst_flux\n",
    "\n",
    "def integrate_spectrum(self, which='luminosity'):\n",
    "        \"\"\"\n",
    "        Approximates definite integral of luminosity over frequency range. Returns result.\n",
    "\n",
    "        Arguments:\n",
    "                which: string; either 'luminosity' or 'flux'; integrates the spectrum at the star or observer\n",
    "        \"\"\"\n",
    "        if which == 'flux':\n",
    "            obsval = self.f_obs_lambda\n",
    "        elif which == 'luminosity':\n",
    "            obsval = self.luminosity_lambda\n",
    "        else:\n",
    "            raise ValueError(f'which must be \\'flux\\' or \\'luminosity\\'; which: {str(which)}')\n",
    "        \n",
    "        Lum_approx = np.trapz(obsval, self.lmbda)\n",
    "        return Lum_approx\n",
    "\n",
    "Model.BlackBody = BlackBody\n",
    "Model.integrate_spectrum = integrate_spectrum"
   ]
  },
  {
   "cell_type": "markdown",
   "metadata": {},
   "source": [
    "## Validate BlackBody Calculations\n",
    "\n",
    "Calculate a spectrum for the Sun using $T=5780$, integrate over that spectrum and compare the result to the published luminosity of the Sun."
   ]
  },
  {
   "cell_type": "markdown",
   "metadata": {},
   "source": [
    ">Run Blackbody for Sun10 for time=1.0 seconds. Multiply the predicted spectrum by $4*np.pi D^2$\n",
    "(D=10pc) to get the Joules/bin at the star. Print np.sum(S10.y). That should be the luminosity of\n",
    "the Sun to within about 25%. If it deviates by much more than that, you have a problem in the\n",
    "use of the Planck function.\n",
    "\n",
    "First run with Sun (not at 10 pc but rather at 1 AU) so that we can directly compare the resulting luminosity to published luminoisty of the Sun"
   ]
  },
  {
   "cell_type": "code",
   "execution_count": 23,
   "metadata": {},
   "outputs": [
    {
     "name": "stdout",
     "output_type": "stream",
     "text": [
      "Star object: name: Sun, ra: 00:00:04, dec: 00:00:25, distance: 4.848e-06, radius: 1.0, mass: 1.0, teff: 5780.0\n",
      "Model object; name: Sun BlackBody Model\n",
      "Luminosity from integrated black body spectrum: 3.644e+26 Watt\n",
      "Published Solar Luminosity from Astropy: 3.828e+26 Watt\n",
      "Ratio: 0.952\n"
     ]
    }
   ],
   "source": [
    "L_sun = 3.828e+26 #(Watt) calibration standard from astropy and in agreement with published sources\n",
    "\n",
    "#good ole Mr. Sun, ra and dec as of mid-March, temp from Wikipedia\n",
    "#distance = 1 AU in pc\n",
    "Sun = Star('Sun', ra='00:00:04', dec='00:00:25',\n",
    "            distance=4.848e-06, mass= 1, teff=5780, radius=1.0)\n",
    "print(Sun)\n",
    "\n",
    "bb_sun =  Model(name='Sun BlackBody Model') #not to be confused with bb_king\n",
    "print(bb_sun)\n",
    "\n",
    "#instantiate the black body model\n",
    "bb_sun.BlackBody(star = Sun, inst=I, obstime=1)\n",
    "\n",
    "#integrate over the luminosity spectrum at the star to get the total luminosity\n",
    "int_spec = bb_sun.integrate_spectrum(which = 'luminosity')\n",
    "\n",
    "#compare integrated spectrum  to calibration standard\n",
    "print(f'Luminosity from integrated black body spectrum: {int_spec:.3e} Watt')\n",
    "print(f'Published Solar Luminosity from Astropy: {L_sun:.3e} Watt')\n",
    "print(f'Ratio: {int_spec/L_sun:.3f}')"
   ]
  },
  {
   "cell_type": "markdown",
   "metadata": {},
   "source": [
    "In the cell above, we calculate the luminosity of the Sun by integrating over its modeled spectrum and compare the result to Sun's published luminosity.\n",
    "The `integrate_spectrum()` method of the `Model` class performs the spectral integration and produces a result that is within 5% of the published luminosity of the sun."
   ]
  },
  {
   "cell_type": "markdown",
   "metadata": {},
   "source": [
    "Now, redo the calculations, this time as requested with a Sun-like object at 10 pc distant."
   ]
  },
  {
   "cell_type": "code",
   "execution_count": 24,
   "metadata": {},
   "outputs": [
    {
     "name": "stdout",
     "output_type": "stream",
     "text": [
      "Star object: name: Sun10, ra: 00:00:04, dec: 00:00:25, distance: 10.0, radius: 1.0, mass: 1.0, teff: 5780.0\n",
      "Model object; name: Sun (at 10 pc) BlackBody Model\n",
      "Luminosity from integrated black body (flux) spectrum: 3.644e+26 Watt\n",
      "Published Solar Luminosity from Astropy: 3.828e+26 Watt\n",
      "Ratio: 0.952\n",
      "Total Energy Observed by instrument: 3.017e-10 J, Implied object luminosity: 3.610e+26 W\n",
      "Ratio implied/actual luminosity: 0.943\n"
     ]
    }
   ],
   "source": [
    "L_sun = 3.828e+26 #calibration standard from astropy and in agreement with published sources\n",
    "\n",
    "#Sun at 10pc\n",
    "Sun10 = Star('Sun10', ra='00:00:04', dec='00:00:25',\n",
    "            distance=10, mass= 1, teff=5780, radius=1.0)\n",
    "print(Sun10) \n",
    "\n",
    "bb_sun10 =  Model(name='Sun (at 10 pc) BlackBody Model')\n",
    "print(bb_sun10)\n",
    "\n",
    "obstime = 1 #second\n",
    "\n",
    "bb_sun10.BlackBody(star = Sun10, inst=I, obstime=obstime)\n",
    "\n",
    "#calculate the flux at the observer and project out to the star\n",
    "int_spec10 = bb_sun10.integrate_spectrum(which='flux')*4*np.pi*Sun10.distance_m()**2\n",
    "#energy observed at the collector (add up the energy in the detector bins)\n",
    "inst_energy = bb_sun10.inst_flux_lambda.sum()\n",
    "#object luminosity implied by the total observed energy\n",
    "inst_luminosity = inst_energy*4*np.pi*Sun10.distance_m()**2/obstime #to convert to watts\n",
    "\n",
    "#summarize results\n",
    "print(f'Luminosity from integrated black body (flux) spectrum: {int_spec10:.3e} Watt')\n",
    "print(f'Published Solar Luminosity from Astropy: {L_sun:.3e} Watt')\n",
    "print(f'Ratio: {int_spec10/L_sun:.3f}')\n",
    "\n",
    "print(f'Total Energy Observed by instrument: {inst_energy:.3e} J, '\n",
    "        f'Implied object luminosity: {inst_luminosity:.3e} W')\n",
    "print(f'Ratio implied/actual luminosity: {inst_luminosity/L_sun:.3f}')"
   ]
  },
  {
   "cell_type": "markdown",
   "metadata": {},
   "source": [
    "The object luminosity implied by the instrument readings is a little bit below the luminosity implied by integrating the theoretical flux at the instrument or the wavelength dependent luminosity at the object.\n",
    "This is because summing the instrument bin values is a more crude approximation to the definite integral than that produced by `np.trapz` used in `Model.integrate_spectrum`.\n",
    "But both calculations are with 6% of the true value, which validates the implementation of the `Model.BlackBody` class method."
   ]
  },
  {
   "cell_type": "markdown",
   "metadata": {},
   "source": [
    "### Predict Spectrum at Instrument"
   ]
  },
  {
   "cell_type": "code",
   "execution_count": 11,
   "metadata": {},
   "outputs": [
    {
     "data": {
      "text/plain": [
       "<matplotlib.legend.Legend at 0x25892e360d0>"
      ]
     },
     "execution_count": 11,
     "metadata": {},
     "output_type": "execute_result"
    },
    {
     "data": {
      "image/png": "[encoded data removed]",
      "text/plain": [
       "<Figure size 576x432 with 1 Axes>"
      ]
     },
     "metadata": {
      "needs_background": "light"
     },
     "output_type": "display_data"
    }
   ],
   "source": [
    "fig, ax = plt.subplots(figsize=(8,6))\n",
    "bb_sun10.plot_spectrum(ax=ax, which='instrument', label='Power at Instrument')\n",
    "max_flux= Sun10.Wien()\n",
    "ax.axvline(max_flux, color='red', ls=':', lw=3, label=f'Lambda max flux: {max_flux:.2e} nm')\n",
    "ax.legend()"
   ]
  },
  {
   "cell_type": "markdown",
   "metadata": {},
   "source": [
    "The figure above shows the energy that would be observed in each frequency bin of the detector. The dotted red vertical line shows the bin (in this case, the bin corresponding to 502 nm) containing the maximum energy.\n",
    "The intstrument energy curve is shown with a stepwise line style in order to depict the discrete nature of the instrument frequency bins."
   ]
  },
  {
   "cell_type": "markdown",
   "metadata": {},
   "source": [
    "## Spectra of Various Stars"
   ]
  },
  {
   "cell_type": "markdown",
   "metadata": {},
   "source": [
    "In this section, we simulate the spectra we expect to see by observing various stars.\n",
    "The stars vary in their distance from the observer, their radius, temperature and mass."
   ]
  },
  {
   "cell_type": "code",
   "execution_count": 25,
   "metadata": {},
   "outputs": [
    {
     "data": {
      "text/plain": [
       "<matplotlib.legend.Legend at 0x258935d6b50>"
      ]
     },
     "execution_count": 25,
     "metadata": {},
     "output_type": "execute_result"
    },
    {
     "data": {
      "image/png": "[encoded data removed]",
      "text/plain": [
       "<Figure size 576x432 with 1 Axes>"
      ]
     },
     "metadata": {
      "needs_background": "light"
     },
     "output_type": "display_data"
    }
   ],
   "source": [
    "#create dict of star objects\n",
    "stars = {\n",
    "        'Mintaka':Star(name='Mintaka', ra='05:32:00.4009', dec='-00:17:56.7424', distance=380, mass=24.0, teff=29500, radius=16.5),\n",
    "        'Aldebaran':Star(name='Aldebaran', ra='04:35:55.23907', dec='16:30:33.4885', distance=20, mass=1.16, teff=3900, radius=45.1),\n",
    "        'Rigel': Star(name='Rigel', ra='05:14:32.27210', dec='-08:12:05.8981', distance=264, mass=21.0, teff=12100, radius=78.9),\n",
    "        'Algol': Star(name='Algol', ra='03:08:10.13245', dec='40:57:20.3280', distance=28, mass=3.17, teff=13000, radius=2.73),\n",
    "}\n",
    "\n",
    "#great dict of blackbodies, one for each star, all stars observed by same instrument\n",
    "blackbodies = {}\n",
    "for s in stars:\n",
    "    bb = Model(name=s)\n",
    "    bb.BlackBody(star=stars[s], inst=I, obstime=1)\n",
    "    blackbodies[s]= bb\n",
    "\n",
    "#plot the predicted observed spectrum of each star on the same graph\n",
    "fig, ax = plt.subplots(figsize=(8,6))\n",
    "for bb, s in zip(blackbodies, stars):\n",
    "    blackbodies[bb].plot_spectrum(ax=ax, which='instrument', \n",
    "            label=f'{blackbodies[bb].name}, teff = {stars[s].teff} K')\n",
    "\n",
    "ax.set_title('Predicted Spectra for Various Stars')\n",
    "ax.legend()"
   ]
  },
  {
   "cell_type": "markdown",
   "metadata": {},
   "source": [
    "In the plot above, the shape of the spectra reflects the stars' temperatures, with the hotter stars peaking at shorter wavelengths.  The height of the curves and thus the total energy observed will increase with the ratio of $\\frac{R_{star}^2}{D_{star}^2}$.\n",
    "\n",
    "Compare the spectra of Rigel (green curve) and Algol (red curve) in the figure above. The two stars have roughly the same temperatures, so their spectra both peak at approximately 250 nm. Rigel is approximately 9.5 times more distant than Algol, however, Rigel's radius is almost 29 times that of Rigel. The ratios of squared radii to squared distances are $4.5\\times 10^{-17}$ and $4.8\\times 10^{-18}$ for Rigel and Algol, respectively or Rigel is an order of magnitude larger. This is why the spectrum of Rigel shows so much amplitude than that of Algol."
   ]
  },
  {
   "cell_type": "code",
   "execution_count": 14,
   "metadata": {},
   "outputs": [
    {
     "name": "stdout",
     "output_type": "stream",
     "text": [
      "Star: Rigel r^2/d^2: 4.540e-17\n",
      "Star: Algol r^2/d^2: 4.832e-18\n"
     ]
    }
   ],
   "source": [
    "for s in ['Rigel', 'Algol']:\n",
    "    print(f'Star: {s} r^2/d^2: {(stars[s].radius_m()/stars[s].distance_m())**2:.3e}')\n"
   ]
  },
  {
   "cell_type": "markdown",
   "metadata": {},
   "source": [
    "## Mintaka Luminosity"
   ]
  },
  {
   "cell_type": "markdown",
   "metadata": {},
   "source": [
    "The star Mintaka is almost five times hotter than our Sun, 24 times more massive and 16 times the diameter. How bright is this star?"
   ]
  },
  {
   "cell_type": "code",
   "execution_count": 15,
   "metadata": {},
   "outputs": [
    {
     "data": {
      "text/plain": [
       "Star object: name: Mintaka, ra: 05:32:00.4009, dec: -00:17:56.7424, distance: 380.0, radius: 16.5, mass: 24.0, teff: 29500.0"
      ]
     },
     "execution_count": 15,
     "metadata": {},
     "output_type": "execute_result"
    }
   ],
   "source": [
    "#what do we know about Mintaka?\n",
    "stars['Mintaka']"
   ]
  },
  {
   "cell_type": "markdown",
   "metadata": {},
   "source": [
    "The distance, radius, mass and effective temperature data for the star Mintaka come from the paper in the [References](#references) section via [Wikipedia](https://en.wikipedia.org/wiki/Mintaka)\n",
    "The authors calculate luminosity to be $log_{10}L_{Mintaka}L_\\odot = 5.28\\pm 0.05$ which works out to $L_{Mintaka} = 1.91\\times10^5 L_\\odot$ in the range between $1.70\\times10^5 L_\\odot$ and $2.14\\times10^5 L_\\odot$.\n",
    "\n",
    "Below, we will calculate $L_{Mintaka}$ via the `Star.luminnosity()` class method which uses the Stefan-Boltzmann law and compare it to the published result."
   ]
  },
  {
   "cell_type": "code",
   "execution_count": 16,
   "metadata": {},
   "outputs": [
    {
     "name": "stdout",
     "output_type": "stream",
     "text": [
      "Mintaka Luminosity: 1.86e+05 L_sun\n"
     ]
    }
   ],
   "source": [
    "#Compare calculated luminosity to that of sun\n",
    "print('Mintaka Luminosity: {:.2e} L_sun'.format(stars['Mintaka'].luminosity()/L_sun))"
   ]
  },
  {
   "cell_type": "markdown",
   "metadata": {},
   "source": [
    "Which is well within the range reported by the paper.\n",
    "\n",
    "We now compare luminosity calculated by integrating the spectrum:"
   ]
  },
  {
   "cell_type": "code",
   "execution_count": 17,
   "metadata": {},
   "outputs": [
    {
     "name": "stdout",
     "output_type": "stream",
     "text": [
      "Integrated Spectrum: 1.37e+05 L_sun\n"
     ]
    }
   ],
   "source": [
    "int_spec = blackbodies['Mintaka'].integrate_spectrum(which='luminosity')\n",
    "print(f'Integrated Spectrum: {int_spec/L_sun:.2e} L_sun')"
   ]
  },
  {
   "cell_type": "markdown",
   "metadata": {},
   "source": [
    "Mintaka's spectrum, when integrated over the range of our `I` instrument shows only about 70% of the luminosity reported in the paper.\n",
    "Referring to the spectrum plot above, notice that Mintaka's spectrum does not display the Wien side of the spectrum (at short wave lengths).\n",
    "This suggests that our instrument is not detecting a large portion of the spectrum that Mintaka emits.\n",
    "\n",
    "To test this theory we improve the instrument such that it now detects wavelengths as small as 10 nm, versus the original detector's lower limit of 100 nm."
   ]
  },
  {
   "cell_type": "code",
   "execution_count": 18,
   "metadata": {},
   "outputs": [
    {
     "data": {
      "image/png": "[encoded data removed]",
      "text/plain": [
       "<Figure size 432x288 with 1 Axes>"
      ]
     },
     "metadata": {
      "needs_background": "light"
     },
     "output_type": "display_data"
    }
   ],
   "source": [
    "#increase the bandwidth of the instrument\n",
    "I2=Instrument(name='Xray detector', nlam = 10001, lam_min = 10., lam_max = 2100., area = 1.)\n",
    "bb_mintaka = Model('mintaka')\n",
    "bb_mintaka.BlackBody(inst=I2, star=stars['Mintaka'], obstime=1)\n",
    "bb_mintaka.plot_spectrum(which='instrument')"
   ]
  },
  {
   "cell_type": "markdown",
   "metadata": {},
   "source": [
    "With our new instrument, we are able to detect high frequency (short wavelength) portion of the spectrum. The Weins portion of the Planck curve is now readily apparent.\n",
    "\n",
    "Integrating this spectrum yields:"
   ]
  },
  {
   "cell_type": "code",
   "execution_count": 19,
   "metadata": {},
   "outputs": [
    {
     "name": "stdout",
     "output_type": "stream",
     "text": [
      "Integrated Spectrum: 1.86e+05 L_sun\n"
     ]
    }
   ],
   "source": [
    "int_spec = bb_mintaka.integrate_spectrum(which='luminosity')\n",
    "print(f'Integrated Spectrum: {int_spec/L_sun:.2e} L_sun')"
   ]
  },
  {
   "cell_type": "markdown",
   "metadata": {},
   "source": [
    "which is now consistent with the luminosity reported by the paper and with luminosity calculated from the Stefan-Boltzmann equation.\n",
    "\n",
    "**Awesome!!** Mintaka is 186,000 times brighter than our Sun!!"
   ]
  },
  {
   "cell_type": "markdown",
   "metadata": {},
   "source": [
    "## References\n",
    "### Mintaka\n",
    "```bibtex\n",
    "@article{2015,\n",
    "   title={A COORDINATED X-RAY AND OPTICAL CAMPAIGN OF THE NEAREST MASSIVE ECLIPSING BINARY,δORIONIS Aa. IV. A MULTIWAVELENGTH, NON-LTE SPECTROSCOPIC ANALYSIS},\n",
    "   volume={809},\n",
    "   ISSN={1538-4357},\n",
    "   url={http://dx.doi.org/10.1088/0004-637X/809/2/135},\n",
    "   docurl={https://arxiv.org/pdf/1503.03476.pdf},\n",
    "   DOI={10.1088/0004-637x/809/2/135},\n",
    "   number={2},\n",
    "   journal={The Astrophysical Journal},\n",
    "   publisher={American Astronomical Society},\n",
    "   author={Shenar, T. and Oskinova, L. and Hamann, W.-R. and Corcoran, M. F. and Moffat, A. F. J. and Pablo, H. and Richardson, N. D. and Waldron, W. L. and Huenemoerder, D. P. and Maíz Apellániz, J. and Nichols, J. S. and Todt, H. and Nazé, Y. and Hoffman, J. L. and Pollock, A. M. T. and Negueruela, I.},\n",
    "   year={2015},\n",
    "   month={Aug},\n",
    "   pages={135} }\n",
    "```\n"
   ]
  },
  {
   "cell_type": "markdown",
   "metadata": {},
   "source": [
    "## Appendix: Constants Used in this Notebook"
   ]
  },
  {
   "cell_type": "code",
   "execution_count": 20,
   "metadata": {},
   "outputs": [
    {
     "name": "stdout",
     "output_type": "stream",
     "text": [
      "Name      Description                      Value  Units\n",
      "--------  -------------------------  -----------  -----------\n",
      "c         Speed of light in vacuum   2.99792e+08  m / s\n",
      "sigma_sb  Stefan-Boltzmann constant  5.67037e-08  W / (K4 m2)\n",
      "k_B       Boltzmann constant         1.38065e-23  J / K\n",
      "h         Planck constant            6.62607e-34  J s\n",
      "L_sun     Nominal solar luminosity   3.828e+26    W\n",
      "R_sun     Nominal solar radius       6.957e+08    m\n",
      "M_sun     Solar mass                 1.98841e+30  kg\n",
      "au        Astronomical Unit          1.49598e+11  m\n",
      "pc        Parsec                     3.08568e+16  m\n"
     ]
    }
   ],
   "source": [
    "import astropy.constants as const\n",
    "from tabulate import tabulate\n",
    "\n",
    "constants = ['c', 'sigma_sb', 'k_B', 'h', 'L_sun', 'R_sun', 'M_sun','au','pc']\n",
    "cons_data = [(cn, getattr(const, cn).name,getattr(const, cn).value, getattr(const, cn).unit) for cn in constants]\n",
    "col_names = ['Name', 'Description','Value', 'Units']\n",
    "print(tabulate(cons_data, headers=col_names))"
   ]
  }
 ],
 "metadata": {
  "interpreter": {
   "hash": "9a63a23aa8f0c95be58cce50c14032e29289dd9e7f4ab6c5fb465f3819b93d42"
  },
  "kernelspec": {
   "display_name": "Python 3",
   "language": "python",
   "name": "python3"
  },
  "language_info": {
   "codemirror_mode": {
    "name": "ipython",
    "version": 3
   },
   "file_extension": ".py",
   "mimetype": "text/x-python",
   "name": "python",
   "nbconvert_exporter": "python",
   "pygments_lexer": "ipython3",
   "version": "3.8.8"
  }
 },
 "nbformat": 4,
 "nbformat_minor": 4
}
