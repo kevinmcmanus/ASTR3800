{
 "cells": [
  {
   "cell_type": "markdown",
   "id": "77845ee9-1f04-43d1-8844-83abc2c8d2a6",
   "metadata": {},
   "source": [
    "# Assignment \\#2\n",
    "## Kevin McManus, student id: 109702479"
   ]
  },
  {
   "cell_type": "code",
   "execution_count": 1,
   "id": "c2314ac3-1d6e-45bc-8cad-fa9d23718ea0",
   "metadata": {},
   "outputs": [],
   "source": [
    "import numpy as np\n",
    "import pandas as pd\n",
    "import matplotlib.pyplot as plt"
   ]
  },
  {
   "cell_type": "markdown",
   "id": "7f0c6569",
   "metadata": {},
   "source": [
    "This notebook creates two Python objects: a Star and an Information object.  There is a section in the notebook below for each object, showing the class definition and then demonstrating its function."
   ]
  },
  {
   "cell_type": "markdown",
   "id": "2a9832a0-f0b2-4bbc-9d73-6174c5149e8a",
   "metadata": {},
   "source": [
    "## List of Favorite Stars"
   ]
  },
  {
   "cell_type": "markdown",
   "id": "c160c2b0",
   "metadata": {},
   "source": [
    "Some stars that we'll workwith below."
   ]
  },
  {
   "cell_type": "code",
   "execution_count": 2,
   "id": "9836a373-7bc4-4c60-83bc-2e1ce6c30c1c",
   "metadata": {},
   "outputs": [
    {
     "data": {
      "text/html": [
       "<div>\n",
       "<style scoped>\n",
       "    .dataframe tbody tr th:only-of-type {\n",
       "        vertical-align: middle;\n",
       "    }\n",
       "\n",
       "    .dataframe tbody tr th {\n",
       "        vertical-align: top;\n",
       "    }\n",
       "\n",
       "    .dataframe thead th {\n",
       "        text-align: right;\n",
       "    }\n",
       "</style>\n",
       "<table border=\"1\" class=\"dataframe\">\n",
       "  <thead>\n",
       "    <tr style=\"text-align: right;\">\n",
       "      <th></th>\n",
       "      <th>ra</th>\n",
       "      <th>dec</th>\n",
       "      <th>distance</th>\n",
       "      <th>mass</th>\n",
       "      <th>teff</th>\n",
       "      <th>radius</th>\n",
       "    </tr>\n",
       "    <tr>\n",
       "      <th>StarName</th>\n",
       "      <th></th>\n",
       "      <th></th>\n",
       "      <th></th>\n",
       "      <th></th>\n",
       "      <th></th>\n",
       "      <th></th>\n",
       "    </tr>\n",
       "  </thead>\n",
       "  <tbody>\n",
       "    <tr>\n",
       "      <th>Mintaka</th>\n",
       "      <td>05:32:00.4009</td>\n",
       "      <td>-00:17:56.7424</td>\n",
       "      <td>380</td>\n",
       "      <td>24.00</td>\n",
       "      <td>29500</td>\n",
       "      <td>16.50</td>\n",
       "    </tr>\n",
       "    <tr>\n",
       "      <th>Aldebaran</th>\n",
       "      <td>04:35:55.23907</td>\n",
       "      <td>16:30:33.4885</td>\n",
       "      <td>20</td>\n",
       "      <td>1.16</td>\n",
       "      <td>3900</td>\n",
       "      <td>45.10</td>\n",
       "    </tr>\n",
       "    <tr>\n",
       "      <th>Rigel</th>\n",
       "      <td>05:14:32.27210</td>\n",
       "      <td>-08:12:05.8981</td>\n",
       "      <td>264</td>\n",
       "      <td>21.00</td>\n",
       "      <td>12100</td>\n",
       "      <td>78.90</td>\n",
       "    </tr>\n",
       "    <tr>\n",
       "      <th>Algol</th>\n",
       "      <td>03:08:10.13245</td>\n",
       "      <td>40:57:20.3280</td>\n",
       "      <td>28</td>\n",
       "      <td>3.17</td>\n",
       "      <td>13000</td>\n",
       "      <td>2.73</td>\n",
       "    </tr>\n",
       "  </tbody>\n",
       "</table>\n",
       "</div>"
      ],
      "text/plain": [
       "                       ra             dec  distance   mass   teff  radius\n",
       "StarName                                                                 \n",
       "Mintaka     05:32:00.4009  -00:17:56.7424       380  24.00  29500   16.50\n",
       "Aldebaran  04:35:55.23907   16:30:33.4885        20   1.16   3900   45.10\n",
       "Rigel      05:14:32.27210  -08:12:05.8981       264  21.00  12100   78.90\n",
       "Algol      03:08:10.13245   40:57:20.3280        28   3.17  13000    2.73"
      ]
     },
     "execution_count": 2,
     "metadata": {},
     "output_type": "execute_result"
    }
   ],
   "source": [
    "# my favorite stars (source:https://en.wikipedia.org/wiki/<starname> )\n",
    "\n",
    "favs = pd.DataFrame([\n",
    "    ['Mintaka', '05:32:00.4009', '-00:17:56.7424', 380, 24, 29500, 16.5],\n",
    "    ['Aldebaran', '04:35:55.23907', '16:30:33.4885', 20, 1.16, 3900, 45.1],\n",
    "    ['Rigel', '05:14:32.27210', '-08:12:05.8981', 264, 21, 12100, 78.9],\n",
    "    ['Algol', '03:08:10.13245', '40:57:20.3280', 28, 3.17, 13000, 2.73]\n",
    "    ]  \n",
    "    , columns = ['StarName', 'ra', 'dec', 'distance', 'mass', 'teff', 'radius']).set_index('StarName')\n",
    "\n",
    "favs"
   ]
  },
  {
   "cell_type": "markdown",
   "id": "d18e771c-7ecd-4c88-9c68-a670d4c92cbb",
   "metadata": {},
   "source": [
    "## Star Object"
   ]
  },
  {
   "cell_type": "markdown",
   "id": "f24986b6",
   "metadata": {},
   "source": [
    "### Class Definition of Star Object"
   ]
  },
  {
   "cell_type": "code",
   "execution_count": 3,
   "id": "f3857d6d-5d06-4749-aae5-80519b669489",
   "metadata": {},
   "outputs": [],
   "source": [
    "class Star():\n",
    "    # required star properties the Star object keeps track of\n",
    "    _starprops = ['ra','dec','distance','radius','mass','teff']\n",
    "    \n",
    "    def __init__(self, name, **kwargs):       \n",
    "        self.name = name # required\n",
    "        \n",
    "        #required properties; will bomb if property not supplied\n",
    "        for prop in Star._starprops:\n",
    "            setattr(self, prop, kwargs.pop(prop))\n",
    "       \n",
    "    def __repr__(self):\n",
    "        str = f'Star object: name: {self.name}'\n",
    "        for prop in Star._starprops:\n",
    "            v = getattr(self, prop, None)\n",
    "            if v is not None:\n",
    "                str += f', {prop}: {v}'            \n",
    "        return str\n",
    "    \n",
    "    def to_dict(self):\n",
    "        d = dict([(prop,getattr(self,prop,None)) for prop in ['name']+Star._starprops])\n",
    "        return d"
   ]
  },
  {
   "cell_type": "markdown",
   "id": "aff386dc",
   "metadata": {},
   "source": [
    "## Demonstration of Star Object"
   ]
  },
  {
   "cell_type": "code",
   "execution_count": 4,
   "id": "cfe767bc-6560-4ff2-90ac-e5f505c64054",
   "metadata": {},
   "outputs": [
    {
     "ename": "KeyError",
     "evalue": "'ra'",
     "output_type": "error",
     "traceback": [
      "\u001b[1;31m---------------------------------------------------------------------------\u001b[0m",
      "\u001b[1;31mKeyError\u001b[0m                                  Traceback (most recent call last)",
      "\u001b[1;32m~\\AppData\\Local\\Temp/ipykernel_11240/1609093157.py\u001b[0m in \u001b[0;36m<module>\u001b[1;34m\u001b[0m\n\u001b[0;32m      2\u001b[0m \u001b[1;31m# this fails because not all required properties are supplied\u001b[0m\u001b[1;33m\u001b[0m\u001b[1;33m\u001b[0m\u001b[0m\n\u001b[0;32m      3\u001b[0m \u001b[1;33m\u001b[0m\u001b[0m\n\u001b[1;32m----> 4\u001b[1;33m \u001b[0ms1\u001b[0m \u001b[1;33m=\u001b[0m \u001b[0mStar\u001b[0m\u001b[1;33m(\u001b[0m\u001b[0mname\u001b[0m\u001b[1;33m=\u001b[0m\u001b[1;34m'Mintaka'\u001b[0m\u001b[1;33m)\u001b[0m\u001b[1;33m\u001b[0m\u001b[1;33m\u001b[0m\u001b[0m\n\u001b[0m\u001b[0;32m      5\u001b[0m \u001b[0ms1\u001b[0m\u001b[1;33m\u001b[0m\u001b[1;33m\u001b[0m\u001b[0m\n",
      "\u001b[1;32m~\\AppData\\Local\\Temp/ipykernel_11240/3604119912.py\u001b[0m in \u001b[0;36m__init__\u001b[1;34m(self, name, **kwargs)\u001b[0m\n\u001b[0;32m      8\u001b[0m         \u001b[1;31m#required properties; will bomb if property not supplied\u001b[0m\u001b[1;33m\u001b[0m\u001b[1;33m\u001b[0m\u001b[0m\n\u001b[0;32m      9\u001b[0m         \u001b[1;32mfor\u001b[0m \u001b[0mprop\u001b[0m \u001b[1;32min\u001b[0m \u001b[0mStar\u001b[0m\u001b[1;33m.\u001b[0m\u001b[0m_starprops\u001b[0m\u001b[1;33m:\u001b[0m\u001b[1;33m\u001b[0m\u001b[1;33m\u001b[0m\u001b[0m\n\u001b[1;32m---> 10\u001b[1;33m             \u001b[0msetattr\u001b[0m\u001b[1;33m(\u001b[0m\u001b[0mself\u001b[0m\u001b[1;33m,\u001b[0m \u001b[0mprop\u001b[0m\u001b[1;33m,\u001b[0m \u001b[0mkwargs\u001b[0m\u001b[1;33m.\u001b[0m\u001b[0mpop\u001b[0m\u001b[1;33m(\u001b[0m\u001b[0mprop\u001b[0m\u001b[1;33m)\u001b[0m\u001b[1;33m)\u001b[0m\u001b[1;33m\u001b[0m\u001b[1;33m\u001b[0m\u001b[0m\n\u001b[0m\u001b[0;32m     11\u001b[0m \u001b[1;33m\u001b[0m\u001b[0m\n\u001b[0;32m     12\u001b[0m     \u001b[1;32mdef\u001b[0m \u001b[0m__repr__\u001b[0m\u001b[1;33m(\u001b[0m\u001b[0mself\u001b[0m\u001b[1;33m)\u001b[0m\u001b[1;33m:\u001b[0m\u001b[1;33m\u001b[0m\u001b[1;33m\u001b[0m\u001b[0m\n",
      "\u001b[1;31mKeyError\u001b[0m: 'ra'"
     ]
    }
   ],
   "source": [
    "# create an instance of a star\n",
    "# this fails because not all required properties are supplied\n",
    "\n",
    "s1 = Star(name='Mintaka')\n",
    "s1"
   ]
  },
  {
   "cell_type": "code",
   "execution_count": 5,
   "id": "00f3b7f5-a52f-48e6-aea0-e4967296804d",
   "metadata": {},
   "outputs": [
    {
     "data": {
      "text/plain": [
       "Star object: name: Mintaka, ra: 05:32:00.4009, dec: -00:17:56.7424, distance: 380, radius: 16.5, mass: 24, teff: 29500"
      ]
     },
     "execution_count": 5,
     "metadata": {},
     "output_type": "execute_result"
    }
   ],
   "source": [
    "# star object with all required properties\n",
    "# This succeeds because all of the required properties are supplied\n",
    "mintaka = Star('Mintaka', ra='05:32:00.4009', dec='-00:17:56.7424',\n",
    "            distance=380, mass= 24, teff=29500, radius=16.5)\n",
    "mintaka"
   ]
  },
  {
   "cell_type": "code",
   "execution_count": 6,
   "id": "f6d9def4-9e6d-4b5b-9ee3-14e6b81f53c4",
   "metadata": {},
   "outputs": [
    {
     "data": {
      "text/plain": [
       "Star object: name: Aldebaran, ra: 04:35:55.23907, dec: 16:30:33.4885, distance: 20, radius: 45.1, mass: 1.16, teff: 3900"
      ]
     },
     "execution_count": 6,
     "metadata": {},
     "output_type": "execute_result"
    }
   ],
   "source": [
    "#Another Star instance\n",
    "aldebaran = Star(name='Aldebaran', ra='04:35:55.23907', dec='16:30:33.4885',\n",
    "    distance=20, mass=1.16, teff=3900, radius=45.10)\n",
    "aldebaran"
   ]
  },
  {
   "cell_type": "code",
   "execution_count": 7,
   "id": "49e881d3",
   "metadata": {},
   "outputs": [
    {
     "name": "stdout",
     "output_type": "stream",
     "text": [
      "Aldebaran mass: 1.16 solar masses\n"
     ]
    }
   ],
   "source": [
    "#print something interesting about Aldebaran\n",
    "print(f'Aldebaran mass: {aldebaran.mass} solar masses')"
   ]
  },
  {
   "cell_type": "code",
   "execution_count": 8,
   "id": "b033da70-1bf0-4d9c-9715-9b512ceac9ef",
   "metadata": {},
   "outputs": [
    {
     "data": {
      "text/plain": [
       "{'name': 'Mintaka',\n",
       " 'ra': '05:32:00.4009',\n",
       " 'dec': '-00:17:56.7424',\n",
       " 'distance': 380,\n",
       " 'radius': 16.5,\n",
       " 'mass': 24,\n",
       " 'teff': 29500}"
      ]
     },
     "execution_count": 8,
     "metadata": {},
     "output_type": "execute_result"
    }
   ],
   "source": [
    "#like working with dicts?\n",
    "#handy function to turn a Star into a dict\n",
    "mintaka_dict = mintaka.to_dict()\n",
    "mintaka_dict"
   ]
  },
  {
   "cell_type": "markdown",
   "id": "84615f0e",
   "metadata": {},
   "source": [
    "## Information Object"
   ]
  },
  {
   "cell_type": "markdown",
   "id": "8258de5e-d22d-4cfe-b0de-a721c3e65a0f",
   "metadata": {},
   "source": [
    "## Class Definition"
   ]
  },
  {
   "cell_type": "code",
   "execution_count": 9,
   "id": "48610bc3-7a30-4628-9f2f-0ef24389c5b2",
   "metadata": {},
   "outputs": [],
   "source": [
    "class Information():\n",
    "    def __init__(self):\n",
    "        self.SourceList = []\n",
    "    def __repr__(self):\n",
    "        return f'Information Object; Source Names: {self.SourceNames()}'\n",
    "    def __len__(self):\n",
    "        return len(self.SourceList)\n",
    "\n",
    "    def SourceNames(self):\n",
    "        str = [s.name for s in self.SourceList]\n",
    "        return str\n",
    "\n",
    "    def LoadStars(self, starslist=None):\n",
    "        #load up 4 dummy stars\n",
    "        self.SourceList = [\n",
    "                Star(name='Mintaka', ra='05:32:00.4009', dec='-00:17:56.7424', distance=380, mass=24.0, teff=29500, radius=16.5),\n",
    "                Star(name='Aldebaran', ra='04:35:55.23907', dec='16:30:33.4885', distance=20, mass=1.16, teff=3900, radius=45.1),\n",
    "                Star(name='Rigel', ra='05:14:32.27210', dec='-08:12:05.8981', distance=264, mass=21.0, teff=12100, radius=78.9),\n",
    "                Star(name='Algol', ra='03:08:10.13245', dec='40:57:20.3280', distance=28, mass=3.17, teff=13000, radius=2.73),\n",
    "        ]\n",
    "        #return a dict of stars so loaded\n",
    "        d = dict([(s.name, s) for s in self.SourceList])\n",
    "        return d\n",
    "    "
   ]
  },
  {
   "cell_type": "markdown",
   "id": "285283cd",
   "metadata": {},
   "source": [
    "### Demonstration of Information Object"
   ]
  },
  {
   "cell_type": "code",
   "execution_count": 10,
   "id": "5f350384-e741-440c-9b94-c84774df58af",
   "metadata": {},
   "outputs": [
    {
     "data": {
      "text/plain": [
       "Information Object; Source Names: []"
      ]
     },
     "execution_count": 10,
     "metadata": {},
     "output_type": "execute_result"
    }
   ],
   "source": [
    "#create instance of information object\n",
    "inf = Information()\n",
    "inf"
   ]
  },
  {
   "cell_type": "code",
   "execution_count": 11,
   "id": "83e8afcf-b952-4cc1-bb68-eb7701365c16",
   "metadata": {},
   "outputs": [
    {
     "data": {
      "text/plain": [
       "{'Mintaka': Star object: name: Mintaka, ra: 05:32:00.4009, dec: -00:17:56.7424, distance: 380, radius: 16.5, mass: 24.0, teff: 29500,\n",
       " 'Aldebaran': Star object: name: Aldebaran, ra: 04:35:55.23907, dec: 16:30:33.4885, distance: 20, radius: 45.1, mass: 1.16, teff: 3900,\n",
       " 'Rigel': Star object: name: Rigel, ra: 05:14:32.27210, dec: -08:12:05.8981, distance: 264, radius: 78.9, mass: 21.0, teff: 12100,\n",
       " 'Algol': Star object: name: Algol, ra: 03:08:10.13245, dec: 40:57:20.3280, distance: 28, radius: 2.73, mass: 3.17, teff: 13000}"
      ]
     },
     "execution_count": 11,
     "metadata": {},
     "output_type": "execute_result"
    }
   ],
   "source": [
    "#load up some info about 4 stars\n",
    "sl = inf.LoadStars()\n",
    "sl"
   ]
  },
  {
   "cell_type": "code",
   "execution_count": 12,
   "id": "f36fb5f6-0a46-40b7-bbc1-b1a1eeaa837e",
   "metadata": {},
   "outputs": [
    {
     "data": {
      "text/plain": [
       "(dict, __main__.Star)"
      ]
     },
     "execution_count": 12,
     "metadata": {},
     "output_type": "execute_result"
    }
   ],
   "source": [
    "#what are the object types?\n",
    "type(sl), type(sl['Mintaka'])"
   ]
  },
  {
   "cell_type": "code",
   "execution_count": 13,
   "id": "4e9f717f-e8fe-43f2-a550-2c4b9b2fac77",
   "metadata": {},
   "outputs": [
    {
     "data": {
      "text/plain": [
       "Star object: name: Mintaka, ra: 05:32:00.4009, dec: -00:17:56.7424, distance: 380, radius: 16.5, mass: 24.0, teff: 29500"
      ]
     },
     "execution_count": 13,
     "metadata": {},
     "output_type": "execute_result"
    }
   ],
   "source": [
    "#look at the Mintaka object within s1, it's a Star object\n",
    "sl['Mintaka']"
   ]
  },
  {
   "cell_type": "code",
   "execution_count": 14,
   "id": "9baf4e69-be6c-46c5-8abc-f8ac0b744fe1",
   "metadata": {},
   "outputs": [
    {
     "data": {
      "text/plain": [
       "24.0"
      ]
     },
     "execution_count": 14,
     "metadata": {},
     "output_type": "execute_result"
    }
   ],
   "source": [
    "#extract one of the properties\n",
    "sl['Mintaka'].mass"
   ]
  },
  {
   "cell_type": "code",
   "execution_count": 15,
   "id": "83b79c0a-f931-4b77-88b0-5a57b532e192",
   "metadata": {},
   "outputs": [
    {
     "data": {
      "text/plain": [
       "['Mintaka', 'Aldebaran', 'Rigel', 'Algol']"
      ]
     },
     "execution_count": 15,
     "metadata": {},
     "output_type": "execute_result"
    }
   ],
   "source": [
    "#for which stars do we have info?\n",
    "inf.SourceNames()"
   ]
  },
  {
   "cell_type": "code",
   "execution_count": 16,
   "id": "936b46fc",
   "metadata": {},
   "outputs": [
    {
     "data": {
      "text/plain": [
       "4"
      ]
     },
     "execution_count": 16,
     "metadata": {},
     "output_type": "execute_result"
    }
   ],
   "source": [
    "#how many stars do we have?\n",
    "len(inf)"
   ]
  }
 ],
 "metadata": {
  "interpreter": {
   "hash": "9a63a23aa8f0c95be58cce50c14032e29289dd9e7f4ab6c5fb465f3819b93d42"
  },
  "kernelspec": {
   "display_name": "Python 3",
   "language": "python",
   "name": "python3"
  },
  "language_info": {
   "codemirror_mode": {
    "name": "ipython",
    "version": 3
   },
   "file_extension": ".py",
   "mimetype": "text/x-python",
   "name": "python",
   "nbconvert_exporter": "python",
   "pygments_lexer": "ipython3",
   "version": "3.9.7"
  }
 },
 "nbformat": 4,
 "nbformat_minor": 5
}
