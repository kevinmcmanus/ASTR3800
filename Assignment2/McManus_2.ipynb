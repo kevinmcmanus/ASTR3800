{
 "cells": [
  {
   "cell_type": "markdown",
   "id": "77845ee9-1f04-43d1-8844-83abc2c8d2a6",
   "metadata": {},
   "source": [
    "# Assignment \\#2\n",
    "## Kevin McManus, student id: 109702479"
   ]
  },
  {
   "cell_type": "code",
   "execution_count": 1,
   "id": "c2314ac3-1d6e-45bc-8cad-fa9d23718ea0",
   "metadata": {},
   "outputs": [],
   "source": [
    "import numpy as np\n",
    "import pandas as pd\n",
    "import matplotlib.pyplot as plt"
   ]
  },
  {
   "cell_type": "markdown",
   "id": "2a9832a0-f0b2-4bbc-9d73-6174c5149e8a",
   "metadata": {},
   "source": [
    "## List of Favorite Stars"
   ]
  },
  {
   "cell_type": "code",
   "execution_count": 2,
   "id": "9836a373-7bc4-4c60-83bc-2e1ce6c30c1c",
   "metadata": {},
   "outputs": [
    {
     "data": {
      "text/html": [
       "<div>\n",
       "<style scoped>\n",
       "    .dataframe tbody tr th:only-of-type {\n",
       "        vertical-align: middle;\n",
       "    }\n",
       "\n",
       "    .dataframe tbody tr th {\n",
       "        vertical-align: top;\n",
       "    }\n",
       "\n",
       "    .dataframe thead th {\n",
       "        text-align: right;\n",
       "    }\n",
       "</style>\n",
       "<table border=\"1\" class=\"dataframe\">\n",
       "  <thead>\n",
       "    <tr style=\"text-align: right;\">\n",
       "      <th></th>\n",
       "      <th>ra</th>\n",
       "      <th>dec</th>\n",
       "      <th>distance</th>\n",
       "      <th>mass</th>\n",
       "      <th>teff</th>\n",
       "      <th>radius</th>\n",
       "    </tr>\n",
       "    <tr>\n",
       "      <th>StarName</th>\n",
       "      <th></th>\n",
       "      <th></th>\n",
       "      <th></th>\n",
       "      <th></th>\n",
       "      <th></th>\n",
       "      <th></th>\n",
       "    </tr>\n",
       "  </thead>\n",
       "  <tbody>\n",
       "    <tr>\n",
       "      <th>Mintaka</th>\n",
       "      <td>05:32:00.4009</td>\n",
       "      <td>-00:17:56.7424</td>\n",
       "      <td>380</td>\n",
       "      <td>24.00</td>\n",
       "      <td>29500</td>\n",
       "      <td>16.50</td>\n",
       "    </tr>\n",
       "    <tr>\n",
       "      <th>Aldebaran</th>\n",
       "      <td>04:35:55.23907</td>\n",
       "      <td>16:30:33.4885</td>\n",
       "      <td>20</td>\n",
       "      <td>1.16</td>\n",
       "      <td>3900</td>\n",
       "      <td>45.10</td>\n",
       "    </tr>\n",
       "    <tr>\n",
       "      <th>Rigel</th>\n",
       "      <td>05:14:32.27210</td>\n",
       "      <td>-08:12:05.8981</td>\n",
       "      <td>264</td>\n",
       "      <td>21.00</td>\n",
       "      <td>12100</td>\n",
       "      <td>78.90</td>\n",
       "    </tr>\n",
       "    <tr>\n",
       "      <th>Algol</th>\n",
       "      <td>03:08:10.13245</td>\n",
       "      <td>40:57:20.3280</td>\n",
       "      <td>28</td>\n",
       "      <td>3.17</td>\n",
       "      <td>13000</td>\n",
       "      <td>2.73</td>\n",
       "    </tr>\n",
       "  </tbody>\n",
       "</table>\n",
       "</div>"
      ],
      "text/plain": [
       "                       ra             dec  distance   mass   teff  radius\n",
       "StarName                                                                 \n",
       "Mintaka     05:32:00.4009  -00:17:56.7424       380  24.00  29500   16.50\n",
       "Aldebaran  04:35:55.23907   16:30:33.4885        20   1.16   3900   45.10\n",
       "Rigel      05:14:32.27210  -08:12:05.8981       264  21.00  12100   78.90\n",
       "Algol      03:08:10.13245   40:57:20.3280        28   3.17  13000    2.73"
      ]
     },
     "execution_count": 2,
     "metadata": {},
     "output_type": "execute_result"
    }
   ],
   "source": [
    "# my favorite stars (source:https://en.wikipedia.org/wiki/<starname> )\n",
    "\n",
    "favs = pd.DataFrame([\n",
    "    ['Mintaka', '05:32:00.4009', '-00:17:56.7424', 380, 24, 29500, 16.5],\n",
    "    ['Aldebaran', '04:35:55.23907', '16:30:33.4885', 20, 1.16, 3900, 45.1],\n",
    "    ['Rigel', '05:14:32.27210', '-08:12:05.8981', 264, 21, 12100, 78.9],\n",
    "    ['Algol', '03:08:10.13245', '40:57:20.3280', 28, 3.17, 13000, 2.73]\n",
    "    ]  \n",
    "    , columns = ['StarName', 'ra', 'dec', 'distance', 'mass', 'teff', 'radius']).set_index('StarName')\n",
    "\n",
    "favs"
   ]
  },
  {
   "cell_type": "markdown",
   "id": "a0454411-4a77-4fcf-adb1-5e0fa0e6774d",
   "metadata": {},
   "source": [
    "The code below generates text that is inserted into Information.Loadstars method. These are the hard-coded stars that the loadstars method loads (for now)."
   ]
  },
  {
   "cell_type": "code",
   "execution_count": 3,
   "id": "1075bdc3-4050-46c5-983d-d4f35dfda121",
   "metadata": {},
   "outputs": [
    {
     "name": "stdout",
     "output_type": "stream",
     "text": [
      "star(name='Mintaka', ra='05:32:00.4009', dec='-00:17:56.7424', distance=380, mass=24.0, teff=29500, radius=16.5),\n",
      "star(name='Aldebaran', ra='04:35:55.23907', dec='16:30:33.4885', distance=20, mass=1.16, teff=3900, radius=45.1),\n",
      "star(name='Rigel', ra='05:14:32.27210', dec='-08:12:05.8981', distance=264, mass=21.0, teff=12100, radius=78.9),\n",
      "star(name='Algol', ra='03:08:10.13245', dec='40:57:20.3280', distance=28, mass=3.17, teff=13000, radius=2.73),\n"
     ]
    }
   ],
   "source": [
    "# build strings to load stars in Info.loadstars()\n",
    "\n",
    "def stringify(x):\n",
    "    if type(x) is str:\n",
    "        return f'\\'{x}\\''\n",
    "    else:\n",
    "        return str(x)\n",
    "\n",
    "favs_dict = favs.to_dict(orient='index')\n",
    "for f in favs_dict:\n",
    "    s_str=f'name=\\'{f}\\', '\n",
    "    sdict = favs_dict[f]\n",
    "    s_str += ', '.join([attr+'='+stringify(sdict[attr]) for attr in sdict])\n",
    "    s_str = f'star({s_str}),'\n",
    "    print(s_str)"
   ]
  },
  {
   "cell_type": "markdown",
   "id": "d18e771c-7ecd-4c88-9c68-a670d4c92cbb",
   "metadata": {},
   "source": [
    "## Demonstration of Star Object"
   ]
  },
  {
   "cell_type": "code",
   "execution_count": 4,
   "id": "f3857d6d-5d06-4749-aae5-80519b669489",
   "metadata": {},
   "outputs": [],
   "source": [
    "from McManus_2 import star as st"
   ]
  },
  {
   "cell_type": "code",
   "execution_count": 5,
   "id": "cfe767bc-6560-4ff2-90ac-e5f505c64054",
   "metadata": {},
   "outputs": [
    {
     "data": {
      "text/plain": [
       "Star object: name: Mintaka"
      ]
     },
     "execution_count": 5,
     "metadata": {},
     "output_type": "execute_result"
    }
   ],
   "source": [
    "# create an instance of a star\n",
    "# Only name is required, other star properties (ra, dec, distance, mass, radius, teff) optional\n",
    "s1 = st('Mintaka')\n",
    "s1"
   ]
  },
  {
   "cell_type": "code",
   "execution_count": 6,
   "id": "00f3b7f5-a52f-48e6-aea0-e4967296804d",
   "metadata": {},
   "outputs": [
    {
     "data": {
      "text/plain": [
       "Star object: name: Mintaka, ra: 05:32:00.4009, dec: -00:17:56.7424"
      ]
     },
     "execution_count": 6,
     "metadata": {},
     "output_type": "execute_result"
    }
   ],
   "source": [
    "#instance with only name and coordinates\n",
    "s1 = st('Mintaka', ra='05:32:00.4009', dec='-00:17:56.7424')\n",
    "s1"
   ]
  },
  {
   "cell_type": "code",
   "execution_count": 7,
   "id": "f6d9def4-9e6d-4b5b-9ee3-14e6b81f53c4",
   "metadata": {},
   "outputs": [
    {
     "data": {
      "text/plain": [
       "Star object: name: Mintaka, ra: 05:32:00.4009, dec: -00:17:56.7424, distance: 380, radius: 16.5, mass: 24.0, teff: 29500"
      ]
     },
     "execution_count": 7,
     "metadata": {},
     "output_type": "execute_result"
    }
   ],
   "source": [
    "#create an instance, this time with all the goodies\n",
    "s1 = st(name='Mintaka', ra='05:32:00.4009', dec='-00:17:56.7424', distance=380, mass=24.0, teff=29500, radius=16.5)\n",
    "s1"
   ]
  },
  {
   "cell_type": "code",
   "execution_count": 8,
   "id": "59ca6723-19d8-4038-a8bf-9613afaf1648",
   "metadata": {},
   "outputs": [
    {
     "name": "stdout",
     "output_type": "stream",
     "text": [
      "Star object: name: Mintaka, ra: 05:32:00.4009, dec: -00:17:56.7424, distance: 380, radius: 16.5, mass: 24.0, teff: 29500\n",
      "Star object: name: Aldebaran, ra: 04:35:55.23907, dec: 16:30:33.4885, distance: 20, radius: 45.1, mass: 1.16, teff: 3900\n",
      "Star object: name: Rigel, ra: 05:14:32.27210, dec: -08:12:05.8981, distance: 264, radius: 78.9, mass: 21.0, teff: 12100\n",
      "Star object: name: Algol, ra: 03:08:10.13245, dec: 40:57:20.3280, distance: 28, radius: 2.73, mass: 3.17, teff: 13000\n"
     ]
    }
   ],
   "source": [
    "#create instances for each of the favorites\n",
    "for s in favs.index:\n",
    "    print (st(s,**favs.loc[s]))"
   ]
  },
  {
   "cell_type": "code",
   "execution_count": 9,
   "id": "67c88064-6075-4011-8fc7-5e21b66096e8",
   "metadata": {},
   "outputs": [
    {
     "data": {
      "text/plain": [
       "Star object: name: Mintaka, ra: 05:32:00.4009, dec: -00:17:56.7424, distance: 380, radius: 16.5, mass: 24.0, teff: 29500"
      ]
     },
     "execution_count": 9,
     "metadata": {},
     "output_type": "execute_result"
    }
   ],
   "source": [
    "#create a mintaka instance from the info that's in the favorites table\n",
    "mintaka = st('Mintaka', **favs.loc['Mintaka'])\n",
    "mintaka"
   ]
  },
  {
   "cell_type": "code",
   "execution_count": 10,
   "id": "b033da70-1bf0-4d9c-9715-9b512ceac9ef",
   "metadata": {},
   "outputs": [
    {
     "data": {
      "text/plain": [
       "{'name': 'Mintaka',\n",
       " 'ra': '05:32:00.4009',\n",
       " 'dec': '-00:17:56.7424',\n",
       " 'distance': 380,\n",
       " 'radius': 16.5,\n",
       " 'mass': 24.0,\n",
       " 'teff': 29500}"
      ]
     },
     "execution_count": 10,
     "metadata": {},
     "output_type": "execute_result"
    }
   ],
   "source": [
    "#like working with dicts?\n",
    "#handy function to turn a star into a dict\n",
    "mintaka_dict = mintaka.to_dict()\n",
    "mintaka_dict"
   ]
  },
  {
   "cell_type": "markdown",
   "id": "8258de5e-d22d-4cfe-b0de-a721c3e65a0f",
   "metadata": {},
   "source": [
    "## Demonstration of Information Object"
   ]
  },
  {
   "cell_type": "code",
   "execution_count": 11,
   "id": "48610bc3-7a30-4628-9f2f-0ef24389c5b2",
   "metadata": {},
   "outputs": [],
   "source": [
    "from McManus_2 import Information as info"
   ]
  },
  {
   "cell_type": "code",
   "execution_count": 12,
   "id": "5f350384-e741-440c-9b94-c84774df58af",
   "metadata": {},
   "outputs": [
    {
     "data": {
      "text/plain": [
       "Information Object; Source Names: []"
      ]
     },
     "execution_count": 12,
     "metadata": {},
     "output_type": "execute_result"
    }
   ],
   "source": [
    "#create instance of information object\n",
    "inf = info()\n",
    "inf"
   ]
  },
  {
   "cell_type": "code",
   "execution_count": 13,
   "id": "83e8afcf-b952-4cc1-bb68-eb7701365c16",
   "metadata": {},
   "outputs": [
    {
     "data": {
      "text/plain": [
       "{'Mintaka': Star object: name: Mintaka, ra: 05:32:00.4009, dec: -00:17:56.7424, distance: 380, radius: 16.5, mass: 24.0, teff: 29500,\n",
       " 'Aldebaran': Star object: name: Aldebaran, ra: 04:35:55.23907, dec: 16:30:33.4885, distance: 20, radius: 45.1, mass: 1.16, teff: 3900,\n",
       " 'Rigel': Star object: name: Rigel, ra: 05:14:32.27210, dec: -08:12:05.8981, distance: 264, radius: 78.9, mass: 21.0, teff: 12100,\n",
       " 'Algol': Star object: name: Algol, ra: 03:08:10.13245, dec: 40:57:20.3280, distance: 28, radius: 2.73, mass: 3.17, teff: 13000}"
      ]
     },
     "execution_count": 13,
     "metadata": {},
     "output_type": "execute_result"
    }
   ],
   "source": [
    "#load up some info about 4 stars\n",
    "#for the moment, the loadstars method loads up these hard coded stars; loadstars returns a dict of the stars so loaded.\n",
    "sl = inf.LoadStars()\n",
    "sl"
   ]
  },
  {
   "cell_type": "code",
   "execution_count": 14,
   "id": "f36fb5f6-0a46-40b7-bbc1-b1a1eeaa837e",
   "metadata": {},
   "outputs": [
    {
     "data": {
      "text/plain": [
       "(dict, McManus_2.star)"
      ]
     },
     "execution_count": 14,
     "metadata": {},
     "output_type": "execute_result"
    }
   ],
   "source": [
    "#what are the object types?\n",
    "type(sl), type(sl['Mintaka'])"
   ]
  },
  {
   "cell_type": "code",
   "execution_count": 15,
   "id": "4e9f717f-e8fe-43f2-a550-2c4b9b2fac77",
   "metadata": {},
   "outputs": [
    {
     "data": {
      "text/plain": [
       "Star object: name: Mintaka, ra: 05:32:00.4009, dec: -00:17:56.7424, distance: 380, radius: 16.5, mass: 24.0, teff: 29500"
      ]
     },
     "execution_count": 15,
     "metadata": {},
     "output_type": "execute_result"
    }
   ],
   "source": [
    "#look at the Mintaka object within s1, it's a star object\n",
    "sl['Mintaka']"
   ]
  },
  {
   "cell_type": "code",
   "execution_count": 16,
   "id": "9baf4e69-be6c-46c5-8abc-f8ac0b744fe1",
   "metadata": {},
   "outputs": [
    {
     "data": {
      "text/plain": [
       "24.0"
      ]
     },
     "execution_count": 16,
     "metadata": {},
     "output_type": "execute_result"
    }
   ],
   "source": [
    "#extract one of the properties\n",
    "sl['Mintaka'].mass"
   ]
  },
  {
   "cell_type": "code",
   "execution_count": 17,
   "id": "83b79c0a-f931-4b77-88b0-5a57b532e192",
   "metadata": {},
   "outputs": [
    {
     "data": {
      "text/plain": [
       "['Mintaka', 'Aldebaran', 'Rigel', 'Algol']"
      ]
     },
     "execution_count": 17,
     "metadata": {},
     "output_type": "execute_result"
    }
   ],
   "source": [
    "#for which stars do we have info?\n",
    "inf.SourceNames()"
   ]
  }
 ],
 "metadata": {
  "kernelspec": {
   "display_name": "astro",
   "language": "python",
   "name": "astro"
  },
  "language_info": {
   "codemirror_mode": {
    "name": "ipython",
    "version": 3
   },
   "file_extension": ".py",
   "mimetype": "text/x-python",
   "name": "python",
   "nbconvert_exporter": "python",
   "pygments_lexer": "ipython3",
   "version": "3.9.7"
  }
 },
 "nbformat": 4,
 "nbformat_minor": 5
}
