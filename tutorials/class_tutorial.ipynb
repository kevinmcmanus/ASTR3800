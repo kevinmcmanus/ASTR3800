{
 "cells": [
  {
   "cell_type": "markdown",
   "metadata": {},
   "source": [
    "# Class Construction Tutorial"
   ]
  },
  {
   "cell_type": "code",
   "execution_count": null,
   "metadata": {},
   "outputs": [],
   "source": [
    "#don't leave home without these\n",
    "import numpy as np\n",
    "import matplotlib.pyplot as plt"
   ]
  },
  {
   "cell_type": "code",
   "execution_count": null,
   "metadata": {},
   "outputs": [],
   "source": [
    "class Norm:\n",
    "    def __init__(self, mu=0, sigma=1):\n",
    "        self.mu = mu\n",
    "        self.sigma = sigma\n",
    "\n",
    "\n",
    "#create an instance of a Norm\n",
    "norm = Norm(mu=10, sigma=2)\n",
    "print(f'Norm: {norm}')"
   ]
  },
  {
   "cell_type": "markdown",
   "metadata": {},
   "source": [
    "Let's beautify the printing of our object.\n",
    "\n",
    "If the class defininition contains an  ``__repr__`` method, it gets called whenever a string representation of a class instance is needed. Among other places this happens when you print an instance."
   ]
  },
  {
   "cell_type": "code",
   "execution_count": null,
   "metadata": {},
   "outputs": [],
   "source": [
    "class Norm:\n",
    "    def __init__(self, mu=0, sigma=1):\n",
    "        self.mu = mu\n",
    "        self.sigma = sigma\n",
    "\n",
    "    def __repr__(self):\n",
    "        repr_str = f'Normal object, mu: {self.mu}, sigma: {self.sigma}'\n",
    "        return repr_str\n",
    "    \n",
    "\n",
    "\n",
    "#create an instance of a Norm\n",
    "norm = Norm(mu=10, sigma=2)\n",
    "print(f'Norm: {norm}')"
   ]
  },
  {
   "cell_type": "markdown",
   "metadata": {},
   "source": [
    "Another handy _special method_ is `__len__(self)`. This method can be useful if your class represents a collection of things. Often you need to know how many objects are in a particular instance; the `__len__` method is called via something like `n_objs = len(myinstance)`. For the class we're demonstrating here, we don't need these so we won't implement this method.\n",
    "\n",
    "See the [Python Turorial](https://www.pythontutorial.net/python-oop/python-\\_\\_repr\\_\\_/) on this topic."
   ]
  },
  {
   "cell_type": "markdown",
   "metadata": {},
   "source": [
    "Let's implement a class method that calculates the probability density function for a Normal (Gaussian) Distribution:\n",
    "\n",
    "$$\n",
    "f(x) = \\frac{1}{\\sigma\\sqrt{2\\pi}} e^{-\\frac{(x-\\mu)^2}{2\\sigma^2}}\n",
    "$$\n",
    "where $\\mu$ and $\\sigma$ are the mean and standard deviation respectively of the distrution. We'll implement this for set of x values that the class instance passes in."
   ]
  },
  {
   "cell_type": "code",
   "execution_count": null,
   "metadata": {},
   "outputs": [],
   "source": [
    "class Norm:\n",
    "    def __init__(self, mu=0, sigma=1):\n",
    "        self.mu = mu\n",
    "        self.sigma = sigma\n",
    "\n",
    "    def __repr__(self):\n",
    "        repr_str = f'Normal object, mu: {self.mu}, sigma: {self.sigma}'\n",
    "        return repr_str\n",
    "\n",
    "    def pdf(self, x=None, n=1000):\n",
    "        #if no x supplied, calculate between +/- 5 standard deviations\n",
    "        if x is None:\n",
    "            lo = self.mu - 5*self.sigma\n",
    "            hi = self.mu + 5*self.sigma\n",
    "            x = np.linspace(lo, hi, n)\n",
    "\n",
    "        const = 1/(self.sigma*np.sqrt(2*np.pi))\n",
    "        expnt = -1*((x-self.mu)**2)/(2*self.sigma**2)\n",
    "        f_x = const*np.exp(expnt)\n",
    "        \n",
    "        return f_x\n"
   ]
  },
  {
   "cell_type": "code",
   "execution_count": null,
   "metadata": {},
   "outputs": [],
   "source": [
    "std_normal = Norm()\n",
    "xx = np.linspace(-4, 4, 3000)\n",
    "norm_pdf = std_normal.pdf(xx)\n",
    "\n",
    "plt.plot(xx, norm_pdf)\n",
    "plt.title('Standard Normal Density Function')"
   ]
  },
  {
   "cell_type": "code",
   "execution_count": null,
   "metadata": {},
   "outputs": [],
   "source": [
    "plt.plot(xx,norm_pdf, label='Standard Normal')\n",
    "plt.plot(xx, Norm(mu=1).pdf(xx), label='Normal, mu=1')\n",
    "plt.plot(xx, Norm(mu=-1, sigma=3).pdf(xx), label='Normal, mu=-1, sigma=3')\n",
    "plt.title('Normal Densities\\nDifferent Parameters')\n",
    "plt.legend()"
   ]
  },
  {
   "cell_type": "markdown",
   "metadata": {},
   "source": [
    "## Your Turn: Implement Black Body Class!"
   ]
  },
  {
   "cell_type": "markdown",
   "metadata": {},
   "source": [
    "Stars shine with a spectrum of approximately that of a black body. In here you'll explore the spectra and frequencies at which black bodies achieve their maximum intensities.\n",
    "To do this exploration, you'll define a Python class called `BlackBody` which will house the attributes and methods you'll need.\n",
    "\n",
    "The primary attribute of a black body radiator is its temperature.  In the code block below, define the `BlackBody` class, create its constructor (i.e. the `__init__` method) and a `__repr__` method so that it prints out nicely.  The ``__init__`` method should accept the black body's temperature (in Kelvin)"
   ]
  },
  {
   "cell_type": "code",
   "execution_count": null,
   "metadata": {},
   "outputs": [],
   "source": [
    "class BlackBody:\n",
    "    #your code here\n",
    "\n",
    "#instantiate the BlackBody defined above\n",
    "bb = BlackBody(5800)\n",
    "bb"
   ]
  },
  {
   "cell_type": "markdown",
   "metadata": {},
   "source": [
    "## Black Body Spectrum\n",
    "\n",
    "Planck's law allows the calculation of intensity (radiative power) of black body radiating at a specific temperature as a function of wavelength. The formula is:\n",
    "\n",
    "$$\n",
    "B_\\lambda(\\lambda, T) = \\frac{2hc^2}{\\lambda^5}\\frac{1}{e^\\frac{hc}{\\lambda k_B T} -1}\n",
    "$$\n",
    "\n",
    "Often this calculation is carried out in `cgs` units which we will do here. Thus, the input parameters are temperature in $K$ and $\\lambda$ (wavelenth) in $cm$. The units of the output are\n",
    "$erg\\ s^{-1}\\ cm^{-2}\\ cm^{-1}\\ sr^{-1}$\n",
    "\n",
    "Here are some useful constants:\n",
    "```python\n",
    "        #some constants we'll need (cgs units)\n",
    "        c = 3e10 #cm s^-1; speed of light\n",
    "        h = 6.6e-27 #erg s; Planck's constant\n",
    "        k = 1.4e-16 #erg k^1; Boltzmann's constant\n",
    "```\n",
    "\n",
    "Implement the `spectrum` method on your `BlackBody` class.  It should accept an input argument which is a vector of wavelengths (in centimeters) and return a vector containing the spectral intensity at each wavelength."
   ]
  },
  {
   "cell_type": "code",
   "execution_count": null,
   "metadata": {},
   "outputs": [],
   "source": [
    "class BlackBody:\n",
    "\n",
    "    #your class definition from above\n",
    "\n",
    "    def spectrum(self, lmbda):\n",
    "        # your implementation of Planck's law\n",
    "\n",
    "        \n"
   ]
  },
  {
   "cell_type": "code",
   "execution_count": null,
   "metadata": {},
   "outputs": [],
   "source": [
    "# Plot a spectrum for a 5800 K radiating body (like the Sun)\n",
    "\n",
    "bb = BlackBody(5800)\n",
    "# spectral range: uv to beyond ir in cm:\n",
    "uv = 100 #nanometers\n",
    "ir = 3000 #wayout past IR (nanometers)\n",
    "\n",
    "nanometer_per_cm = 1e7\n",
    "#wavelength range over which we'll compute the spectrum\n",
    "lmbda = np.linspace(uv/nanometer_per_cm, ir/nanometer_per_cm, 10000)\n",
    "\n",
    "#compute the spectal density for the wavelength range\n",
    "spec = bb.spectrum(lmbda)\n",
    "\n",
    "#what did we get?\n",
    "plt.plot(lmbda, spec)"
   ]
  },
  {
   "cell_type": "code",
   "execution_count": null,
   "metadata": {},
   "outputs": [],
   "source": [
    "#Plot a few spectra for different temperatures\n",
    "\n",
    "#plot x axis in angrstrom\n",
    "angstrom_per_cm = 1e8\n",
    "lmbda_ang = lmbda*angstrom_per_cm\n",
    "\n",
    "plt.plot(lmbda_ang, BlackBody(temp=5000).spectrum(lmbda), label='Temp: 5000 K')\n",
    "plt.plot(lmbda_ang, BlackBody(temp=4000).spectrum(lmbda), label='Temp: 4000 K')\n",
    "plt.plot(lmbda_ang, BlackBody(temp=3000).spectrum(lmbda), label='Temp: 3000 K')\n",
    "\n",
    "#fancy labeling\n",
    "plt.xlabel('$Wavelength\\ (\\AA)$')\n",
    "plt.ylabel('$erg\\ s^{-1} cm^{-2} \\AA^{-1}sr^{-1}$')\n",
    "plt.title('Radiative Energy') \n",
    "plt.legend()"
   ]
  },
  {
   "cell_type": "markdown",
   "metadata": {},
   "source": [
    "## Wien's Law\n",
    "\n",
    "Wein's Law enables you to calculate the wavelength at which the maximum black body intensity occurs.  It is:\n",
    "\n",
    "$$\n",
    "\\lambda_{max}T = 0.29\\ cm\\ K\n",
    "$$\n",
    "or\n",
    "$$\n",
    "\\lambda_{max} = (0.29\\ cm\\ K)/T\n",
    "$$\n",
    "\n",
    "for a given temperature in Kelvin, $\\lambda_{max}$ will come out in units of $cm$\n",
    "\n",
    "Use the formula above to implement a method called `Wien` that returns $\\lambda_{max}$ for a BlackBody instance."
   ]
  },
  {
   "cell_type": "code",
   "execution_count": null,
   "metadata": {},
   "outputs": [],
   "source": [
    "class BlackBody:\n",
    "\n",
    "    #your BlackBody code from above\n",
    "\n",
    "    def Wien(self):\n",
    "        #your implementaion of Wien's Law\n",
    "\n",
    "        \n"
   ]
  },
  {
   "cell_type": "code",
   "execution_count": null,
   "metadata": {},
   "outputs": [],
   "source": [
    "#plot lambda_max versus the spectrum for a given temp\n",
    "\n",
    "uv = 100 #nanometers\n",
    "#ir = 780 #nanometers\n",
    "ir = 3000 #wayout past IR\n",
    "\n",
    "nanometer_per_cm = 1e7\n",
    "lmbda = np.linspace(uv/nanometer_per_cm, ir/nanometer_per_cm, 10000)\n",
    "\n",
    "temp = 10000\n",
    "t5000 = BlackBody(temp=temp)\n",
    "t5000_spec = t5000.spectrum(lmbda = lmbda)\n",
    "\n",
    "# calculate labmda_max using your Wien method\n",
    "t5000_max = t5000.Wien()\n",
    "\n",
    "fig, ax = plt.subplots(figsize=(8,6))\n",
    "lmax = f'{t5000_max*angstrom_per_cm:.2e}'\n",
    "ax.plot(lmbda*angstrom_per_cm, t5000_spec, label=f'Spectrum T={temp}')\n",
    "ax.axvline(t5000_max*angstrom_per_cm, color='red', ls=':',\n",
    "    label=r'$\\lambda_{max} = '+lmax+' \\AA$')\n",
    "\n",
    "ax.set_xlabel('$Wavelength (\\AA)$')\n",
    "ax.set_ylabel('$erg\\ s^{-1} cm^{-2} \\AA^{-1}sr^{-1}$')\n",
    "ax.set_title('Radiative Energy')\n",
    "ax.legend()"
   ]
  },
  {
   "cell_type": "code",
   "execution_count": null,
   "metadata": {},
   "outputs": [],
   "source": []
  }
 ],
 "metadata": {
  "interpreter": {
   "hash": "9a63a23aa8f0c95be58cce50c14032e29289dd9e7f4ab6c5fb465f3819b93d42"
  },
  "kernelspec": {
   "display_name": "Python 3.9.7 64-bit ('astro': conda)",
   "language": "python",
   "name": "python3"
  },
  "language_info": {
   "codemirror_mode": {
    "name": "ipython",
    "version": 3
   },
   "file_extension": ".py",
   "mimetype": "text/x-python",
   "name": "python",
   "nbconvert_exporter": "python",
   "pygments_lexer": "ipython3",
   "version": "3.9.7"
  },
  "orig_nbformat": 4
 },
 "nbformat": 4,
 "nbformat_minor": 2
}
